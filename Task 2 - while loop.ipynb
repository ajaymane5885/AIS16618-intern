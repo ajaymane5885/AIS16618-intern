{
 "cells": [
  {
   "cell_type": "markdown",
   "id": "3665c07f-8540-42e9-913e-860a0de655a6",
   "metadata": {},
   "source": [
    "While loop"
   ]
  },
  {
   "cell_type": "code",
   "execution_count": 1,
   "id": "d33467e0-a721-4e12-8614-b60a20ceea52",
   "metadata": {},
   "outputs": [
    {
     "name": "stdout",
     "output_type": "stream",
     "text": [
      "1\n",
      "2\n",
      "3\n",
      "4\n",
      "5\n"
     ]
    }
   ],
   "source": [
    "#1.Counting from 1 to 5\n",
    "count = 1\n",
    "while count <= 5:\n",
    "    print(count)\n",
    "    count += 1"
   ]
  },
  {
   "cell_type": "code",
   "execution_count": 2,
   "id": "7465b546-89d6-488a-a137-d1d3b1b312ea",
   "metadata": {},
   "outputs": [
    {
     "name": "stdout",
     "output_type": "stream",
     "text": [
      "5\n",
      "4\n",
      "3\n",
      "2\n",
      "1\n"
     ]
    }
   ],
   "source": [
    "#2.Printing Numbers in Reverse\n",
    "count = 5\n",
    "while count >= 1:\n",
    "    print(count)\n",
    "    count -= 1"
   ]
  },
  {
   "cell_type": "code",
   "execution_count": 3,
   "id": "313086c4-fbb7-4672-a0b2-13f4b1420209",
   "metadata": {},
   "outputs": [
    {
     "name": "stdout",
     "output_type": "stream",
     "text": [
      "2\n",
      "4\n",
      "6\n",
      "8\n",
      "10\n"
     ]
    }
   ],
   "source": [
    "#3.Printing Even Numbers\n",
    "num = 2\n",
    "while num <= 10:\n",
    "    print(num)\n",
    "    num += 2"
   ]
  },
  {
   "cell_type": "code",
   "execution_count": 4,
   "id": "0940d6d5-6f55-48b5-ab6a-f69d9fa5942d",
   "metadata": {},
   "outputs": [
    {
     "name": "stdout",
     "output_type": "stream",
     "text": [
      "Sum: 55\n"
     ]
    }
   ],
   "source": [
    "#4.Sum of Numbers from 1 to 10\n",
    "sum = 0\n",
    "num = 1\n",
    "while num <= 10:\n",
    "    sum += num\n",
    "    num += 1\n",
    "print(\"Sum:\", sum)"
   ]
  },
  {
   "cell_type": "code",
   "execution_count": 5,
   "id": "48bb805f-23da-49a9-87d9-e9ccd5ebb66a",
   "metadata": {},
   "outputs": [
    {
     "name": "stdout",
     "output_type": "stream",
     "text": [
      "P\n",
      "y\n",
      "t\n",
      "h\n",
      "o\n",
      "n\n"
     ]
    }
   ],
   "source": [
    "#5.Printing Characters of a String\n",
    "text = \"Python\"\n",
    "index = 0\n",
    "while index < len(text):\n",
    "    print(text[index])\n",
    "    index += 1"
   ]
  },
  {
   "cell_type": "code",
   "execution_count": 6,
   "id": "e147b99b-e621-4743-b649-c2d8ec4d0058",
   "metadata": {},
   "outputs": [
    {
     "name": "stdout",
     "output_type": "stream",
     "text": [
      "1\n",
      "2\n",
      "4\n",
      "8\n",
      "16\n",
      "32\n",
      "64\n"
     ]
    }
   ],
   "source": [
    "#6.Doubling a Number\n",
    "num = 1\n",
    "while num <= 100:\n",
    "    print(num)\n",
    "    num *= 2"
   ]
  },
  {
   "cell_type": "code",
   "execution_count": 7,
   "id": "bd3ef729-0399-4266-badd-edfb4b72c82a",
   "metadata": {},
   "outputs": [
    {
     "name": "stdout",
     "output_type": "stream",
     "text": [
      "Factorial: 120\n"
     ]
    }
   ],
   "source": [
    "#7.Finding Factorial of a Number\n",
    "num = 5\n",
    "factorial = 1\n",
    "while num > 0:\n",
    "    factorial *= num\n",
    "    num -= 1\n",
    "print(\"Factorial:\", factorial)"
   ]
  },
  {
   "cell_type": "code",
   "execution_count": 8,
   "id": "cc41601d-dad1-44d1-b85c-52937774d5ac",
   "metadata": {},
   "outputs": [
    {
     "name": "stdout",
     "output_type": "stream",
     "text": [
      "1\n",
      "4\n",
      "9\n",
      "16\n",
      "25\n",
      "36\n",
      "49\n",
      "64\n",
      "81\n",
      "100\n"
     ]
    }
   ],
   "source": [
    "#8.Printing Squares of Numbers\n",
    "num = 1\n",
    "while num <= 10:\n",
    "    print(num ** 2)\n",
    "    num += 1"
   ]
  },
  {
   "cell_type": "code",
   "execution_count": 9,
   "id": "3ca19b9e-964f-4eca-92c5-9991a8090a4e",
   "metadata": {},
   "outputs": [
    {
     "name": "stdout",
     "output_type": "stream",
     "text": [
      "n\n",
      "o\n",
      "h\n",
      "t\n",
      "y\n",
      "P\n"
     ]
    }
   ],
   "source": [
    "#9.Reversing a String\n",
    "text = \"Python\"\n",
    "index = len(text) - 1\n",
    "while index >= 0:\n",
    "    print(text[index])\n",
    "    index -= 1"
   ]
  },
  {
   "cell_type": "code",
   "execution_count": 10,
   "id": "e1a563a8-7b4a-4d54-a905-95d3a4435427",
   "metadata": {},
   "outputs": [
    {
     "name": "stdout",
     "output_type": "stream",
     "text": [
      "*****\n",
      "****\n",
      "***\n",
      "**\n",
      "*\n"
     ]
    }
   ],
   "source": [
    "#10.Printing Pattern\n",
    "rows = 5\n",
    "while rows > 0:\n",
    "    print(\"*\" * rows)\n",
    "    rows -= 1"
   ]
  },
  {
   "cell_type": "raw",
   "id": "29411f2b-61d1-4924-b7fe-7008ecd4ea37",
   "metadata": {},
   "source": [
    "#Basic Syntax:\n",
    "while condition:\n",
    "    # code block to execute while condition is true\n",
    "#Explanation:\n",
    "#while: This keyword marks the beginning of the loop.\n",
    "#condition: This is the expression that determines whether the loop should continue executing. The loop will continue executing as long as this  condition evaluates to True.\n",
    "#:(colon): It's used to denote the end of the while statement and the beginning of the code block that should be executed while the condition is true.\n",
    "#Indentation: The code block following the while statement must be indented. In Python, indentation is used to denote code blocks, so it's crucial to maintain proper indentation for the code to be interpreted correctly."
   ]
  }
 ],
 "metadata": {
  "kernelspec": {
   "display_name": "Python 3 (ipykernel)",
   "language": "python",
   "name": "python3"
  },
  "language_info": {
   "codemirror_mode": {
    "name": "ipython",
    "version": 3
   },
   "file_extension": ".py",
   "mimetype": "text/x-python",
   "name": "python",
   "nbconvert_exporter": "python",
   "pygments_lexer": "ipython3",
   "version": "3.11.7"
  }
 },
 "nbformat": 4,
 "nbformat_minor": 5
}
