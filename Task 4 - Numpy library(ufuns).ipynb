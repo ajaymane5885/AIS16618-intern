{
 "cells": [
  {
   "cell_type": "markdown",
   "id": "61b8d0e5-dbe0-47cd-9687-ee32e943a954",
   "metadata": {},
   "source": [
    "## Numpy ufunc"
   ]
  },
  {
   "cell_type": "code",
   "execution_count": 2,
   "id": "d5a9e88c-51af-48a6-9813-d917fe4feab0",
   "metadata": {},
   "outputs": [],
   "source": [
    "#Introduction: ufuncs stands for \"Universal Functions\" and they are NumPy functions that operate on the ndarray object."
   ]
  },
  {
   "cell_type": "code",
   "execution_count": 3,
   "id": "fcf8da5d-a56b-4d56-8753-110acf3705cc",
   "metadata": {},
   "outputs": [
    {
     "name": "stdout",
     "output_type": "stream",
     "text": [
      "[5, 7, 9, 11]\n"
     ]
    }
   ],
   "source": [
    "#Without ufunc, we can use Python's built-in zip() method\n",
    "x = [1, 2, 3, 4]\n",
    "y = [4, 5, 6, 7]\n",
    "z = []\n",
    "for i, j in zip(x, y):\n",
    "  z.append(i + j)\n",
    "print(z)"
   ]
  },
  {
   "cell_type": "code",
   "execution_count": 4,
   "id": "64db307f-c788-4e4c-abe2-1d01c32157b6",
   "metadata": {},
   "outputs": [
    {
     "name": "stdout",
     "output_type": "stream",
     "text": [
      "[ 5  7  9 11]\n"
     ]
    }
   ],
   "source": [
    "#With ufunc, we can use the add() function\n",
    "import numpy as np\n",
    "x = [1, 2, 3, 4]\n",
    "y = [4, 5, 6, 7]\n",
    "z = np.add(x, y)\n",
    "print(z)"
   ]
  },
  {
   "cell_type": "code",
   "execution_count": 5,
   "id": "2e6d4f0c-8b4f-41d3-abef-41168ae9ce39",
   "metadata": {},
   "outputs": [],
   "source": [
    "#Create Your Own ufunc:"
   ]
  },
  {
   "cell_type": "code",
   "execution_count": 6,
   "id": "4e518f36-c137-46a7-93b8-2d80392e478c",
   "metadata": {},
   "outputs": [
    {
     "name": "stdout",
     "output_type": "stream",
     "text": [
      "[6 8 10 12]\n"
     ]
    }
   ],
   "source": [
    "#Create your own ufunc for addition\n",
    "import numpy as np\n",
    "def myadd(x, y):\n",
    "  return x+y\n",
    "myadd = np.frompyfunc(myadd, 2, 1)\n",
    "print(myadd([1, 2, 3, 4], [5, 6, 7, 8]))"
   ]
  },
  {
   "cell_type": "code",
   "execution_count": 7,
   "id": "76da2c44-9e49-48a1-8292-8a3ec03752c7",
   "metadata": {},
   "outputs": [
    {
     "name": "stdout",
     "output_type": "stream",
     "text": [
      "<class 'numpy._ArrayFunctionDispatcher'>\n"
     ]
    }
   ],
   "source": [
    "#Check the type of another function: concatenate()\n",
    "import numpy as np\n",
    "print(type(np.concatenate))"
   ]
  },
  {
   "cell_type": "code",
   "execution_count": 8,
   "id": "628bab77-fbe6-4e3c-aa11-3721e3cc2935",
   "metadata": {},
   "outputs": [
    {
     "name": "stdout",
     "output_type": "stream",
     "text": [
      "add is ufunc\n"
     ]
    }
   ],
   "source": [
    "#Use an if statement to check if the function is a ufunc or not\n",
    "import numpy as np\n",
    "if type(np.add) == np.ufunc:\n",
    "  print('add is ufunc')\n",
    "else:\n",
    "  print('add is not ufunc')"
   ]
  },
  {
   "cell_type": "code",
   "execution_count": 9,
   "id": "fda2fb47-3573-4290-9c44-9dc2eddd63e4",
   "metadata": {},
   "outputs": [],
   "source": [
    "#Simple Arithmetic:"
   ]
  },
  {
   "cell_type": "code",
   "execution_count": 10,
   "id": "7792c0bf-6194-485f-9ee0-474f60316843",
   "metadata": {},
   "outputs": [
    {
     "name": "stdout",
     "output_type": "stream",
     "text": [
      "[30 32 34 36 38 40]\n"
     ]
    }
   ],
   "source": [
    "#Add the values in arr1 to the values in arr2\n",
    "import numpy as np\n",
    "arr1 = np.array([10, 11, 12, 13, 14, 15])\n",
    "arr2 = np.array([20, 21, 22, 23, 24, 25])\n",
    "newarr = np.add(arr1, arr2)\n",
    "print(newarr)"
   ]
  },
  {
   "cell_type": "code",
   "execution_count": 11,
   "id": "0fa86fe3-a4ff-43ea-bfe9-2c456433b0cd",
   "metadata": {},
   "outputs": [
    {
     "name": "stdout",
     "output_type": "stream",
     "text": [
      "[-10  -1   8  17  26  35]\n"
     ]
    }
   ],
   "source": [
    "#Subtract the values in arr2 from the values in arr1\n",
    "import numpy as np\n",
    "arr1 = np.array([10, 20, 30, 40, 50, 60])\n",
    "arr2 = np.array([20, 21, 22, 23, 24, 25])\n",
    "newarr = np.subtract(arr1, arr2)\n",
    "print(newarr)"
   ]
  },
  {
   "cell_type": "code",
   "execution_count": 12,
   "id": "0b74c45a-fea5-4b14-8959-69d09de1fc02",
   "metadata": {},
   "outputs": [],
   "source": [
    "#Rounding Decimals:"
   ]
  },
  {
   "cell_type": "code",
   "execution_count": 13,
   "id": "32fd73ea-63cf-4f63-9fc3-98a3db60e41f",
   "metadata": {},
   "outputs": [
    {
     "name": "stdout",
     "output_type": "stream",
     "text": [
      "[-3.  3.]\n"
     ]
    }
   ],
   "source": [
    "#Truncate elements of following array\n",
    "import numpy as np\n",
    "arr = np.trunc([-3.1666, 3.6667])\n",
    "print(arr)"
   ]
  },
  {
   "cell_type": "code",
   "execution_count": 14,
   "id": "a2a5218a-5f03-473c-8322-0fcc4154571c",
   "metadata": {},
   "outputs": [
    {
     "name": "stdout",
     "output_type": "stream",
     "text": [
      "[-3.  3.]\n"
     ]
    }
   ],
   "source": [
    "#using fix()\n",
    "import numpy as np\n",
    "arr = np.fix([-3.1666, 3.6667])\n",
    "print(arr)"
   ]
  },
  {
   "cell_type": "code",
   "execution_count": 15,
   "id": "a2a9610a-c69e-497b-b2af-1b538b95ce09",
   "metadata": {},
   "outputs": [
    {
     "name": "stdout",
     "output_type": "stream",
     "text": [
      "3.17\n"
     ]
    }
   ],
   "source": [
    "#Round off 3.1666 to 2 decimal places\n",
    "import numpy as np\n",
    "arr = np.around(3.1666, 2)\n",
    "print(arr)"
   ]
  },
  {
   "cell_type": "code",
   "execution_count": 16,
   "id": "b385ccc4-ad8c-4d21-ab1c-52ab1a118c88",
   "metadata": {},
   "outputs": [
    {
     "name": "stdout",
     "output_type": "stream",
     "text": [
      "[-4.  3.]\n"
     ]
    }
   ],
   "source": [
    "#Floor the elements of array\n",
    "import numpy as np\n",
    "arr = np.floor([-3.1666, 3.6667])\n",
    "print(arr)"
   ]
  },
  {
   "cell_type": "code",
   "execution_count": 17,
   "id": "cb820c9e-d0f3-4824-b584-4d9c2489b4c8",
   "metadata": {},
   "outputs": [
    {
     "name": "stdout",
     "output_type": "stream",
     "text": [
      "[-3.  4.]\n"
     ]
    }
   ],
   "source": [
    "#Ceil the elements of following array\n",
    "import numpy as np\n",
    "arr = np.ceil([-3.1666, 3.6667])\n",
    "print(arr)"
   ]
  },
  {
   "cell_type": "code",
   "execution_count": 1,
   "id": "403dfd7d-a69b-4e89-8743-fce059c4bfa8",
   "metadata": {},
   "outputs": [],
   "source": [
    "#Logs:"
   ]
  },
  {
   "cell_type": "code",
   "execution_count": 3,
   "id": "2e5b6a45-6a3a-4e68-b71f-03f8270167ee",
   "metadata": {},
   "outputs": [
    {
     "name": "stdout",
     "output_type": "stream",
     "text": [
      "[2.32192809 2.5849625  2.80735492 3.         3.169925   3.32192809\n",
      " 3.45943162 3.5849625  3.70043972 3.80735492]\n"
     ]
    }
   ],
   "source": [
    "#Find log at base 2 of all elements of array\n",
    "import numpy as np\n",
    "arr = np.arange(5, 15)\n",
    "print(np.log2(arr))"
   ]
  },
  {
   "cell_type": "code",
   "execution_count": 5,
   "id": "c345d0b1-a34c-412e-9c4a-7c798daeb373",
   "metadata": {},
   "outputs": [
    {
     "name": "stdout",
     "output_type": "stream",
     "text": [
      "[0.30103    0.47712125 0.60205999 0.69897    0.77815125 0.84509804\n",
      " 0.90308999 0.95424251 1.         1.04139269 1.07918125 1.11394335\n",
      " 1.14612804 1.17609126 1.20411998 1.23044892 1.25527251 1.2787536 ]\n"
     ]
    }
   ],
   "source": [
    "#Find log at base 10 of all elements of array\n",
    "import numpy as np\n",
    "arr = np.arange(2, 20)\n",
    "print(np.log10(arr))"
   ]
  },
  {
   "cell_type": "code",
   "execution_count": 6,
   "id": "898c1b91-fcd4-4a9f-93b9-2bbd2aac9a5b",
   "metadata": {},
   "outputs": [
    {
     "name": "stdout",
     "output_type": "stream",
     "text": [
      "[0.69314718 1.09861229 1.38629436 1.60943791 1.79175947 1.94591015\n",
      " 2.07944154 2.19722458 2.30258509 2.39789527 2.48490665 2.56494936\n",
      " 2.63905733 2.7080502  2.77258872 2.83321334 2.89037176 2.94443898]\n"
     ]
    }
   ],
   "source": [
    "#Find log at base e of all elements of following array\n",
    "import numpy as np\n",
    "arr = np.arange(2, 20)\n",
    "print(np.log(arr))"
   ]
  },
  {
   "cell_type": "code",
   "execution_count": 9,
   "id": "489326cb-2146-40cc-87e0-e1a6d1fc05b8",
   "metadata": {},
   "outputs": [
    {
     "name": "stdout",
     "output_type": "stream",
     "text": [
      "2.301029995663981\n"
     ]
    }
   ],
   "source": [
    "#Log at Any Base\n",
    "from math import log\n",
    "import numpy as np\n",
    "nplog = np.frompyfunc(log, 2, 1)\n",
    "print(nplog(200, 10))"
   ]
  },
  {
   "cell_type": "code",
   "execution_count": 10,
   "id": "9783a686-8ce1-4704-af25-fb65f06c1811",
   "metadata": {},
   "outputs": [],
   "source": [
    "#Summations:"
   ]
  },
  {
   "cell_type": "code",
   "execution_count": 11,
   "id": "8c0f5596-891e-4b7b-94d2-21ceef4003a4",
   "metadata": {},
   "outputs": [
    {
     "name": "stdout",
     "output_type": "stream",
     "text": [
      "[2 4 6]\n"
     ]
    }
   ],
   "source": [
    "#Add the values in arr1 to the values in arr2\n",
    "import numpy as np\n",
    "arr1 = np.array([1, 2, 3])\n",
    "arr2 = np.array([1, 2, 3])\n",
    "newarr = np.add(arr1, arr2)\n",
    "print(newarr)"
   ]
  },
  {
   "cell_type": "code",
   "execution_count": 12,
   "id": "6dbeebf1-d2f6-490d-8ecc-e95a09b99fcc",
   "metadata": {},
   "outputs": [
    {
     "name": "stdout",
     "output_type": "stream",
     "text": [
      "12\n"
     ]
    }
   ],
   "source": [
    "#Sum the values in arr1 and the values in arr2\n",
    "import numpy as np\n",
    "arr1 = np.array([1, 2, 3])\n",
    "arr2 = np.array([1, 2, 3])\n",
    "newarr = np.sum([arr1, arr2])\n",
    "print(newarr)"
   ]
  },
  {
   "cell_type": "code",
   "execution_count": 15,
   "id": "43da5789-4a63-4a18-8d33-558b613d15a0",
   "metadata": {},
   "outputs": [
    {
     "name": "stdout",
     "output_type": "stream",
     "text": [
      "[6 6]\n"
     ]
    }
   ],
   "source": [
    "#Perform summation in the array over 1st axis\n",
    "import numpy as np\n",
    "arr1 = np.array([1, 2, 3])\n",
    "arr2 = np.array([1, 2, 3])\n",
    "newarr = np.sum([arr1, arr2], axis=1)\n",
    "print(newarr)"
   ]
  },
  {
   "cell_type": "code",
   "execution_count": 16,
   "id": "86c69929-280f-48a6-b6f1-401831b7fb1e",
   "metadata": {},
   "outputs": [
    {
     "name": "stdout",
     "output_type": "stream",
     "text": [
      "[1 3 6]\n"
     ]
    }
   ],
   "source": [
    "#Perform cummulative summation in the following array\n",
    "import numpy as np\n",
    "arr = np.array([1, 2, 3])\n",
    "newarr = np.cumsum(arr)\n",
    "print(newarr)"
   ]
  },
  {
   "cell_type": "code",
   "execution_count": 17,
   "id": "01c4c70b-02de-4ee7-9296-0bd47c64ca3a",
   "metadata": {},
   "outputs": [],
   "source": [
    "#Products:"
   ]
  },
  {
   "cell_type": "code",
   "execution_count": 18,
   "id": "f9f78bb3-ab32-431f-99a3-9041961f0a04",
   "metadata": {},
   "outputs": [
    {
     "name": "stdout",
     "output_type": "stream",
     "text": [
      "24\n"
     ]
    }
   ],
   "source": [
    "#Find the product of the elements of this array\n",
    "import numpy as np\n",
    "arr = np.array([1, 2, 3, 4])\n",
    "x = np.prod(arr)\n",
    "print(x)"
   ]
  },
  {
   "cell_type": "code",
   "execution_count": 19,
   "id": "4c26fa02-5aae-46e2-b8d3-5ae21f43d327",
   "metadata": {},
   "outputs": [
    {
     "name": "stdout",
     "output_type": "stream",
     "text": [
      "40320\n"
     ]
    }
   ],
   "source": [
    "#Find the product of the elements of two arrays\n",
    "import numpy as np\n",
    "arr1 = np.array([1, 2, 3, 4])\n",
    "arr2 = np.array([5, 6, 7, 8])\n",
    "x = np.prod([arr1, arr2])\n",
    "print(x)"
   ]
  },
  {
   "cell_type": "code",
   "execution_count": 21,
   "id": "1e1298fc-cfbb-4b9a-aa32-878793c684e6",
   "metadata": {},
   "outputs": [
    {
     "name": "stdout",
     "output_type": "stream",
     "text": [
      "[  24 1680]\n"
     ]
    }
   ],
   "source": [
    "#Perform summation in the array over 1st axis\n",
    "import numpy as np\n",
    "arr1 = np.array([1, 2, 3, 4])\n",
    "arr2 = np.array([5, 6, 7, 8])\n",
    "newarr = np.prod([arr1, arr2], axis=1)\n",
    "print(newarr)"
   ]
  },
  {
   "cell_type": "code",
   "execution_count": 22,
   "id": "3046c3b5-b8e2-40b8-a34d-6f670d386eda",
   "metadata": {},
   "outputs": [
    {
     "name": "stdout",
     "output_type": "stream",
     "text": [
      "[   5   30  210 1680]\n"
     ]
    }
   ],
   "source": [
    "#Cummulative product of all elements for array\n",
    "import numpy as np\n",
    "arr = np.array([5, 6, 7, 8])\n",
    "newarr = np.cumprod(arr)\n",
    "print(newarr)"
   ]
  },
  {
   "cell_type": "code",
   "execution_count": 23,
   "id": "47f641ba-91b6-46b6-8e25-df9a1b255b47",
   "metadata": {},
   "outputs": [],
   "source": [
    "#Differences:"
   ]
  },
  {
   "cell_type": "code",
   "execution_count": 24,
   "id": "b62f2ecf-867a-4f42-b652-82f382c2c848",
   "metadata": {},
   "outputs": [
    {
     "name": "stdout",
     "output_type": "stream",
     "text": [
      "[  5  10 -20]\n"
     ]
    }
   ],
   "source": [
    "#Compute discrete difference of the array\n",
    "import numpy as np\n",
    "arr = np.array([10, 15, 25, 5])\n",
    "newarr = np.diff(arr)\n",
    "print(newarr)"
   ]
  },
  {
   "cell_type": "code",
   "execution_count": 28,
   "id": "cf4be83e-34c2-4e2f-9d32-e91309747675",
   "metadata": {},
   "outputs": [
    {
     "name": "stdout",
     "output_type": "stream",
     "text": [
      "[  5 -30]\n"
     ]
    }
   ],
   "source": [
    "#Compute discrete difference of the array twice\n",
    "import numpy as np\n",
    "arr = np.array([10, 15, 25, 5])\n",
    "newarr = np.diff(arr, n=2)\n",
    "print(newarr)"
   ]
  },
  {
   "cell_type": "code",
   "execution_count": 29,
   "id": "d3c96601-0aeb-4f37-a52b-c1e9cd880856",
   "metadata": {},
   "outputs": [],
   "source": [
    "#LCM (Lowest Common Multiple)"
   ]
  },
  {
   "cell_type": "code",
   "execution_count": 37,
   "id": "3d88f3fd-34ba-438c-bc9a-bf896cd70e5b",
   "metadata": {},
   "outputs": [
    {
     "name": "stdout",
     "output_type": "stream",
     "text": [
      "6\n"
     ]
    }
   ],
   "source": [
    "#Find the LCM of the two numbers\n",
    "import numpy as np\n",
    "num1 = 3\n",
    "num2 = 6\n",
    "x = np.lcm(num1, num2)\n",
    "print(x)"
   ]
  },
  {
   "cell_type": "code",
   "execution_count": 38,
   "id": "0cb5ba31-033b-462e-a8c6-597cb9e87d1a",
   "metadata": {},
   "outputs": [
    {
     "name": "stdout",
     "output_type": "stream",
     "text": [
      "18\n"
     ]
    }
   ],
   "source": [
    "#Find the LCM of the values of the array\n",
    "import numpy as np\n",
    "arr = np.array([3, 6, 9])\n",
    "x = np.lcm.reduce(arr)\n",
    "print(x)"
   ]
  },
  {
   "cell_type": "code",
   "execution_count": 39,
   "id": "ceecd20c-0683-40ba-961f-8e4a60443cd0",
   "metadata": {},
   "outputs": [
    {
     "name": "stdout",
     "output_type": "stream",
     "text": [
      "2520\n"
     ]
    }
   ],
   "source": [
    "#Find the LCM of all values of an array where the array contains all integers from 1 to 10\n",
    "import numpy as np\n",
    "arr = np.arange(1, 10)\n",
    "x = np.lcm.reduce(arr)\n",
    "print(x)"
   ]
  },
  {
   "cell_type": "code",
   "execution_count": 40,
   "id": "c2e9109a-059d-4ce3-9e2c-82e2abfc1c0e",
   "metadata": {},
   "outputs": [],
   "source": [
    "#GCD (Greatest Common Denominator)"
   ]
  },
  {
   "cell_type": "code",
   "execution_count": 41,
   "id": "dbb9ac41-f043-4e2d-af40-a6a31b9c5c98",
   "metadata": {},
   "outputs": [
    {
     "name": "stdout",
     "output_type": "stream",
     "text": [
      "3\n"
     ]
    }
   ],
   "source": [
    "#Find the HCF of the two numbers\n",
    "import numpy as np\n",
    "num1 = 6\n",
    "num2 = 9\n",
    "x = np.gcd(num1, num2)\n",
    "print(x)"
   ]
  },
  {
   "cell_type": "code",
   "execution_count": 42,
   "id": "688e9989-e3e4-4e58-9792-a335427fb97f",
   "metadata": {},
   "outputs": [
    {
     "name": "stdout",
     "output_type": "stream",
     "text": [
      "4\n"
     ]
    }
   ],
   "source": [
    "#Find the GCD for all of the numbers in the array\n",
    "import numpy as np\n",
    "arr = np.array([20, 8, 32, 36, 16])\n",
    "x = np.gcd.reduce(arr)\n",
    "print(x):"
   ]
  },
  {
   "cell_type": "code",
   "execution_count": 43,
   "id": "dca21833-2638-44e1-8d9f-0ea483e39f5f",
   "metadata": {},
   "outputs": [],
   "source": [
    "#Trigonometric Functions:"
   ]
  },
  {
   "cell_type": "code",
   "execution_count": 44,
   "id": "13b2a525-121d-4f73-a292-aa63817a2689",
   "metadata": {},
   "outputs": [
    {
     "name": "stdout",
     "output_type": "stream",
     "text": [
      "1.0\n"
     ]
    }
   ],
   "source": [
    "#Find sine value of PI/2\n",
    "import numpy as np\n",
    "x = np.sin(np.pi/2)\n",
    "print(x)"
   ]
  },
  {
   "cell_type": "code",
   "execution_count": 45,
   "id": "e2aebb32-2735-46f8-93bb-365461cd5411",
   "metadata": {},
   "outputs": [
    {
     "name": "stdout",
     "output_type": "stream",
     "text": [
      "[1.         0.8660254  0.70710678 0.58778525]\n"
     ]
    }
   ],
   "source": [
    "#Find sine values for all of the values in arr\n",
    "import numpy as np\n",
    "arr = np.array([np.pi/2, np.pi/3, np.pi/4, np.pi/5])\n",
    "x = np.sin(arr)\n",
    "print(x)"
   ]
  },
  {
   "cell_type": "code",
   "execution_count": 46,
   "id": "3aa85ba8-f78b-483b-b08f-b01909e56aaa",
   "metadata": {},
   "outputs": [
    {
     "name": "stdout",
     "output_type": "stream",
     "text": [
      "[1.57079633 3.14159265 4.71238898 6.28318531]\n"
     ]
    }
   ],
   "source": [
    "#Convert all of the values in following array arr to radians\n",
    "import numpy as np\n",
    "arr = np.array([90, 180, 270, 360])\n",
    "x = np.deg2rad(arr)\n",
    "print(x)"
   ]
  },
  {
   "cell_type": "code",
   "execution_count": 47,
   "id": "fbc40071-d254-4c5c-9609-43b0025e6f8f",
   "metadata": {},
   "outputs": [
    {
     "name": "stdout",
     "output_type": "stream",
     "text": [
      "[ 90. 180. 270. 360.]\n"
     ]
    }
   ],
   "source": [
    "#Convert all of the values in array arr to degrees\n",
    "import numpy as np\n",
    "arr = np.array([np.pi/2, np.pi, 1.5*np.pi, 2*np.pi])\n",
    "x = np.rad2deg(arr)\n",
    "print(x)"
   ]
  },
  {
   "cell_type": "code",
   "execution_count": 51,
   "id": "3ea5304e-05ef-4049-aff7-14fa1dd14d51",
   "metadata": {},
   "outputs": [
    {
     "name": "stdout",
     "output_type": "stream",
     "text": [
      "1.5707963267948966\n"
     ]
    }
   ],
   "source": [
    "#Find the angle of 1\n",
    "import numpy as np\n",
    "x = np.arcsin(1)\n",
    "print(x)"
   ]
  },
  {
   "cell_type": "code",
   "execution_count": 52,
   "id": "917e1bed-3680-41f7-9eaa-f364f3218565",
   "metadata": {},
   "outputs": [
    {
     "name": "stdout",
     "output_type": "stream",
     "text": [
      "[ 1.57079633 -1.57079633  0.10016742]\n"
     ]
    }
   ],
   "source": [
    "#Find the angle for all of the sine values in the array\n",
    "import numpy as np\n",
    "arr = np.array([1, -1, 0.1])\n",
    "x = np.arcsin(arr)\n",
    "print(x)"
   ]
  },
  {
   "cell_type": "code",
   "execution_count": 53,
   "id": "e3a3d098-4c61-425b-ab5f-a414524d13c3",
   "metadata": {},
   "outputs": [
    {
     "name": "stdout",
     "output_type": "stream",
     "text": [
      "5.0\n"
     ]
    }
   ],
   "source": [
    "#Find the hypotenues for 4 base and 3 perpendicular\n",
    "import numpy as np\n",
    "base = 3\n",
    "perp = 4\n",
    "x = np.hypot(base, perp)\n",
    "print(x)"
   ]
  },
  {
   "cell_type": "code",
   "execution_count": 54,
   "id": "6d86b9ca-8871-4faf-892f-d6a13eab7c7d",
   "metadata": {},
   "outputs": [],
   "source": [
    "#Hyperbolic Functions:"
   ]
  },
  {
   "cell_type": "code",
   "execution_count": 55,
   "id": "e808ab9b-8f4a-4477-a96e-bd85c8c43669",
   "metadata": {},
   "outputs": [
    {
     "name": "stdout",
     "output_type": "stream",
     "text": [
      "2.3012989023072947\n"
     ]
    }
   ],
   "source": [
    "#Find sinh value of PI/2\n",
    "import numpy as np\n",
    "x = np.sinh(np.pi/2)\n",
    "print(x)"
   ]
  },
  {
   "cell_type": "code",
   "execution_count": 56,
   "id": "c6896804-c663-461c-bb71-15140298cf9b",
   "metadata": {},
   "outputs": [
    {
     "name": "stdout",
     "output_type": "stream",
     "text": [
      "[2.50917848 1.60028686 1.32460909 1.20397209]\n"
     ]
    }
   ],
   "source": [
    "#Find cosh values for all of the values in array\n",
    "import numpy as np\n",
    "arr = np.array([np.pi/2, np.pi/3, np.pi/4, np.pi/5])\n",
    "x = np.cosh(arr)\n",
    "print(x)"
   ]
  },
  {
   "cell_type": "code",
   "execution_count": 57,
   "id": "afc78d09-5130-4581-be45-8cfea463f0f5",
   "metadata": {},
   "outputs": [
    {
     "name": "stdout",
     "output_type": "stream",
     "text": [
      "0.881373587019543\n"
     ]
    }
   ],
   "source": [
    "#Find the angle of 1\n",
    "import numpy as np\n",
    "x = np.arcsinh(1)\n",
    "print(x)"
   ]
  },
  {
   "cell_type": "code",
   "execution_count": 58,
   "id": "ebb0a139-550d-4d9f-8d89-fcb987ee49a3",
   "metadata": {},
   "outputs": [
    {
     "name": "stdout",
     "output_type": "stream",
     "text": [
      "[0.10033535 0.20273255 0.54930614]\n"
     ]
    }
   ],
   "source": [
    "#Find the angle for all of the tanh values in array\n",
    "import numpy as np\n",
    "arr = np.array([0.1, 0.2, 0.5])\n",
    "x = np.arctanh(arr)\n",
    "print(x)"
   ]
  },
  {
   "cell_type": "code",
   "execution_count": 59,
   "id": "a487625f-20b9-44f7-9cda-50fa87f68cce",
   "metadata": {},
   "outputs": [],
   "source": [
    "#Set Operations:"
   ]
  },
  {
   "cell_type": "code",
   "execution_count": 60,
   "id": "54f51811-8e19-4131-b2a2-14c4bf34cb37",
   "metadata": {},
   "outputs": [
    {
     "name": "stdout",
     "output_type": "stream",
     "text": [
      "[1 2 3 4 5 6 7]\n"
     ]
    }
   ],
   "source": [
    "#Convert array with repeated elements to a set\n",
    "import numpy as np\n",
    "arr = np.array([1, 1, 1, 2, 3, 4, 5, 5, 6, 7])\n",
    "x = np.unique(arr)\n",
    "print(x)"
   ]
  },
  {
   "cell_type": "code",
   "execution_count": 61,
   "id": "271456a3-c721-4550-bbde-41cd94d177c4",
   "metadata": {},
   "outputs": [
    {
     "name": "stdout",
     "output_type": "stream",
     "text": [
      "[1 2 3 4 5 6]\n"
     ]
    }
   ],
   "source": [
    "#Find union of the two set arrays\n",
    "import numpy as np\n",
    "arr1 = np.array([1, 2, 3, 4])\n",
    "arr2 = np.array([3, 4, 5, 6])\n",
    "newarr = np.union1d(arr1, arr2)\n",
    "print(newarr)"
   ]
  },
  {
   "cell_type": "code",
   "execution_count": 64,
   "id": "76c8f13f-5602-49d8-8784-e40050482a95",
   "metadata": {},
   "outputs": [
    {
     "name": "stdout",
     "output_type": "stream",
     "text": [
      "[3 4]\n"
     ]
    }
   ],
   "source": [
    "#Find intersection of the two set arrays\n",
    "import numpy as np\n",
    "arr1 = np.array([1, 2, 3, 4])\n",
    "arr2 = np.array([3, 4, 5, 6])\n",
    "newarr = np.intersect1d(arr1, arr2, assume_unique=True)\n",
    "print(newarr)"
   ]
  },
  {
   "cell_type": "code",
   "execution_count": 65,
   "id": "187184d8-c4fb-4781-a9cc-1563a065f7dd",
   "metadata": {},
   "outputs": [
    {
     "name": "stdout",
     "output_type": "stream",
     "text": [
      "[1 2]\n"
     ]
    }
   ],
   "source": [
    "#Find the difference of the set1 from set2\n",
    "import numpy as np\n",
    "set1 = np.array([1, 2, 3, 4])\n",
    "set2 = np.array([3, 4, 5, 6])\n",
    "newarr = np.setdiff1d(set1, set2, assume_unique=True)\n",
    "print(newarr)"
   ]
  },
  {
   "cell_type": "code",
   "execution_count": 68,
   "id": "0b45bd4d-c808-4935-a70a-ca1fac0d08cd",
   "metadata": {},
   "outputs": [
    {
     "name": "stdout",
     "output_type": "stream",
     "text": [
      "[1 2 5 6]\n"
     ]
    }
   ],
   "source": [
    "#Find the symmetric difference of the set1 and set2\n",
    "import numpy as np\n",
    "set1 = np.array([1, 2, 3, 4])\n",
    "set2 = np.array([3, 4, 5, 6])\n",
    "newarr = np.setxor1d(set1, set2, assume_unique=True)\n",
    "print(newarr)"
   ]
  }
 ],
 "metadata": {
  "kernelspec": {
   "display_name": "Python 3 (ipykernel)",
   "language": "python",
   "name": "python3"
  },
  "language_info": {
   "codemirror_mode": {
    "name": "ipython",
    "version": 3
   },
   "file_extension": ".py",
   "mimetype": "text/x-python",
   "name": "python",
   "nbconvert_exporter": "python",
   "pygments_lexer": "ipython3",
   "version": "3.11.7"
  }
 },
 "nbformat": 4,
 "nbformat_minor": 5
}
