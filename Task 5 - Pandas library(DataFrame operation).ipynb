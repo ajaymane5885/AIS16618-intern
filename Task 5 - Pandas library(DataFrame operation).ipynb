{
 "cells": [
  {
   "cell_type": "markdown",
   "id": "0fdf1754-fc4e-4b40-8054-090c995a7671",
   "metadata": {},
   "source": [
    "# DataFrame operation:"
   ]
  },
  {
   "cell_type": "code",
   "execution_count": 1,
   "id": "2949a3c4-86d8-430e-abed-f4c789557fcc",
   "metadata": {},
   "outputs": [
    {
     "name": "stdout",
     "output_type": "stream",
     "text": [
      "Value Counts for 'Name' column:\n",
      "Name\n",
      "Alice      3\n",
      "Bob        1\n",
      "Charlie    1\n",
      "David      1\n",
      "Name: count, dtype: int64\n"
     ]
    }
   ],
   "source": [
    "#value_counts(): Counting the occurrences of unique values in a column\n",
    "import pandas as pd\n",
    "data = {'Name': ['Alice', 'Bob', 'Charlie', 'Alice', 'David', 'Alice'],\n",
    "        'Age': [25, 30, 35, 25, 40, 25]}\n",
    "df = pd.DataFrame(data)\n",
    "value_counts = df['Name'].value_counts()\n",
    "print(\"Value Counts for 'Name' column:\")\n",
    "print(value_counts)"
   ]
  },
  {
   "cell_type": "code",
   "execution_count": 2,
   "id": "c2a93e10-601c-4b58-883d-0eff8443d3bd",
   "metadata": {},
   "outputs": [
    {
     "name": "stdout",
     "output_type": "stream",
     "text": [
      "Result after applying function to 'A' column:\n",
      "0    2\n",
      "1    4\n",
      "2    6\n",
      "Name: A, dtype: int64\n"
     ]
    }
   ],
   "source": [
    "#apply(): Applying a function along the axis of the DataFrame\n",
    "import pandas as pd\n",
    "data = {'A': [1, 2, 3],\n",
    "        'B': [4, 5, 6]}\n",
    "df = pd.DataFrame(data)\n",
    "def double(x):\n",
    "    return x * 2\n",
    "result = df['A'].apply(double)\n",
    "print(\"Result after applying function to 'A' column:\")\n",
    "print(result)"
   ]
  },
  {
   "cell_type": "code",
   "execution_count": 3,
   "id": "423a6c0f-019e-48fe-9187-dce598275a3a",
   "metadata": {},
   "outputs": [
    {
     "name": "stdout",
     "output_type": "stream",
     "text": [
      "Unique values in 'Name' column:\n",
      "['Alice' 'Bob' 'Charlie' 'David']\n"
     ]
    }
   ],
   "source": [
    "#unique(): Getting unique values in a column\n",
    "import pandas as pd\n",
    "data = {'Name': ['Alice', 'Bob', 'Charlie', 'Alice', 'David', 'Alice']}\n",
    "df = pd.DataFrame(data)\n",
    "unique_values = df['Name'].unique()\n",
    "print(\"Unique values in 'Name' column:\")\n",
    "print(unique_values)"
   ]
  },
  {
   "cell_type": "code",
   "execution_count": 4,
   "id": "f38da4d6-68a9-4d12-b46d-0bd2ea44ba4f",
   "metadata": {},
   "outputs": [
    {
     "name": "stdout",
     "output_type": "stream",
     "text": [
      "Number of unique values in 'Name' column: 4\n"
     ]
    }
   ],
   "source": [
    "#nunique(): Counting the number of unique values in a column\n",
    "import pandas as pd\n",
    "data = {'Name': ['Alice', 'Bob', 'Charlie', 'Alice', 'David', 'Alice']}\n",
    "df = pd.DataFrame(data)\n",
    "num_unique = df['Name'].nunique()\n",
    "print(\"Number of unique values in 'Name' column:\", num_unique)"
   ]
  },
  {
   "cell_type": "code",
   "execution_count": 5,
   "id": "e6597665-a9d1-4b41-b08b-e94d826bdb24",
   "metadata": {},
   "outputs": [
    {
     "name": "stdout",
     "output_type": "stream",
     "text": [
      "Descriptive statistics of the DataFrame:\n",
      "              A         B\n",
      "count  5.000000  5.000000\n",
      "mean   3.000000  6.000000\n",
      "std    1.581139  1.581139\n",
      "min    1.000000  4.000000\n",
      "25%    2.000000  5.000000\n",
      "50%    3.000000  6.000000\n",
      "75%    4.000000  7.000000\n",
      "max    5.000000  8.000000\n"
     ]
    }
   ],
   "source": [
    "#describe(): Generating descriptive statistics of the DataFrame\n",
    "import pandas as pd\n",
    "data = {'A': [1, 2, 3, 4, 5],\n",
    "        'B': [4, 5, 6, 7, 8]}\n",
    "df = pd.DataFrame(data)\n",
    "description = df.describe()\n",
    "print(\"Descriptive statistics of the DataFrame:\")\n",
    "print(description)"
   ]
  },
  {
   "cell_type": "code",
   "execution_count": 8,
   "id": "bcef9629-cc7a-4429-8025-b40c57a44ad7",
   "metadata": {},
   "outputs": [
    {
     "name": "stdout",
     "output_type": "stream",
     "text": [
      "Result after applying lambda function:\n",
      "   A   B\n",
      "0  2   8\n",
      "1  4  10\n",
      "2  6  12\n"
     ]
    }
   ],
   "source": [
    "#Applying a Lambda Function with apply()\n",
    "import pandas as pd\n",
    "data = {'A': [1, 2, 3],\n",
    "        'B': [4, 5, 6]}\n",
    "df = pd.DataFrame(data)\n",
    "result = df.apply(lambda x: x * 2)\n",
    "print(\"Result after applying lambda function:\")\n",
    "print(result)"
   ]
  },
  {
   "cell_type": "code",
   "execution_count": 9,
   "id": "faaa89e0-71ef-4c98-9a0f-57d43876799b",
   "metadata": {},
   "outputs": [
    {
     "name": "stdout",
     "output_type": "stream",
     "text": [
      "Index of Maximum Values in each Column:\n",
      "A    2\n",
      "B    2\n",
      "dtype: int64\n"
     ]
    }
   ],
   "source": [
    "#Finding the Index of Maximum Values with idxmax()\n",
    "import pandas as pd\n",
    "data = {'A': [10, 20, 30],\n",
    "        'B': [40, 50, 60]}\n",
    "df = pd.DataFrame(data)\n",
    "idxmax_values = df.idxmax()\n",
    "print(\"Index of Maximum Values in each Column:\")\n",
    "print(idxmax_values)"
   ]
  }
 ],
 "metadata": {
  "kernelspec": {
   "display_name": "Python 3 (ipykernel)",
   "language": "python",
   "name": "python3"
  },
  "language_info": {
   "codemirror_mode": {
    "name": "ipython",
    "version": 3
   },
   "file_extension": ".py",
   "mimetype": "text/x-python",
   "name": "python",
   "nbconvert_exporter": "python",
   "pygments_lexer": "ipython3",
   "version": "3.11.7"
  }
 },
 "nbformat": 4,
 "nbformat_minor": 5
}
