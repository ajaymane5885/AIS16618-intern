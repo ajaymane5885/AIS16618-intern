{
 "cells": [
  {
   "cell_type": "markdown",
   "id": "5269efec-886b-422f-9678-798d35a21197",
   "metadata": {},
   "source": [
    "# Missing Value"
   ]
  },
  {
   "cell_type": "code",
   "execution_count": 2,
   "id": "4cc2ee04-95bf-4033-97ef-382e878610e2",
   "metadata": {},
   "outputs": [],
   "source": [
    "#Missing value checking:"
   ]
  },
  {
   "cell_type": "code",
   "execution_count": 3,
   "id": "43928f52-2149-4bf6-ad2b-6a94cd3f5255",
   "metadata": {},
   "outputs": [
    {
     "name": "stdout",
     "output_type": "stream",
     "text": [
      "DataFrame with missing value indicators:\n",
      "       A      B\n",
      "0  False  False\n",
      "1  False   True\n",
      "2   True  False\n",
      "3  False  False\n"
     ]
    }
   ],
   "source": [
    "#Using isnull() to Check for Missing Values\n",
    "import pandas as pd\n",
    "data = {'A': [1, 2, None, 4],\n",
    "        'B': [5, None, 7, 8]}\n",
    "df = pd.DataFrame(data)\n",
    "missing_values = df.isnull()\n",
    "print(\"DataFrame with missing value indicators:\")\n",
    "print(missing_values)"
   ]
  },
  {
   "cell_type": "code",
   "execution_count": 4,
   "id": "4c74e473-c374-4ac0-965c-4a194ac4fdf3",
   "metadata": {},
   "outputs": [
    {
     "name": "stdout",
     "output_type": "stream",
     "text": [
      "DataFrame with missing value indicators:\n",
      "       A      B\n",
      "0  False  False\n",
      "1  False   True\n",
      "2   True  False\n",
      "3  False  False\n"
     ]
    }
   ],
   "source": [
    "#Using isna() to Check for Missing Values\n",
    "import pandas as pd\n",
    "data = {'A': [1, 2, None, 4],\n",
    "        'B': [5, None, 7, 8]}\n",
    "df = pd.DataFrame(data)\n",
    "missing_values = df.isna()\n",
    "print(\"DataFrame with missing value indicators:\")\n",
    "print(missing_values)"
   ]
  },
  {
   "cell_type": "code",
   "execution_count": 7,
   "id": "2087fbf0-3b4c-458f-84e3-d7204f5a0e3e",
   "metadata": {},
   "outputs": [],
   "source": [
    "#Missing value drop by row and by col:"
   ]
  },
  {
   "cell_type": "code",
   "execution_count": 8,
   "id": "1eb610df-6589-442d-bf8c-c744f02b8d0d",
   "metadata": {},
   "outputs": [
    {
     "name": "stdout",
     "output_type": "stream",
     "text": [
      "DataFrame after dropping missing values by row:\n",
      "     A    B\n",
      "0  1.0  5.0\n",
      "3  4.0  8.0\n"
     ]
    }
   ],
   "source": [
    "#Dropping Missing Values by Row\n",
    "import pandas as pd\n",
    "data = {'A': [1, 2, None, 4],\n",
    "        'B': [5, None, 7, 8]}\n",
    "df = pd.DataFrame(data)\n",
    "df_drop_row = df.dropna()\n",
    "print(\"DataFrame after dropping missing values by row:\")\n",
    "print(df_drop_row)"
   ]
  },
  {
   "cell_type": "code",
   "execution_count": 9,
   "id": "51ad8ed6-1f69-40d3-8bf9-d9ba1e65b96b",
   "metadata": {},
   "outputs": [
    {
     "name": "stdout",
     "output_type": "stream",
     "text": [
      "DataFrame after dropping missing values by column:\n",
      "Empty DataFrame\n",
      "Columns: []\n",
      "Index: [0, 1, 2, 3]\n"
     ]
    }
   ],
   "source": [
    "#Dropping Missing Values by Column\n",
    "import pandas as pd\n",
    "data = {'A': [1, 2, None, 4],\n",
    "        'B': [5, None, 7, 8]}\n",
    "df = pd.DataFrame(data)\n",
    "df_drop_col = df.dropna(axis=1)\n",
    "print(\"DataFrame after dropping missing values by column:\")\n",
    "print(df_drop_col)"
   ]
  },
  {
   "cell_type": "code",
   "execution_count": 10,
   "id": "857e5143-ff90-49ad-8742-ce3d7fdb3ba0",
   "metadata": {},
   "outputs": [],
   "source": [
    "#Missing value fill(mean,median):"
   ]
  },
  {
   "cell_type": "code",
   "execution_count": 11,
   "id": "90a06d52-9312-476f-8642-b68ac478a353",
   "metadata": {},
   "outputs": [
    {
     "name": "stdout",
     "output_type": "stream",
     "text": [
      "DataFrame filled with mean:\n",
      "     A    B\n",
      "0  1.0  3.5\n",
      "1  2.0  2.0\n",
      "2  3.0  3.0\n",
      "3  4.0  4.0\n",
      "4  5.0  5.0\n"
     ]
    }
   ],
   "source": [
    "#Filling missing values with mean\n",
    "import pandas as pd\n",
    "data = {'A': [1, 2, None, 4, 5],\n",
    "        'B': [None, 2, 3, 4, 5]}\n",
    "df = pd.DataFrame(data)\n",
    "df_filled_mean = df.fillna(df.mean())\n",
    "print(\"DataFrame filled with mean:\")\n",
    "print(df_filled_mean)"
   ]
  },
  {
   "cell_type": "code",
   "execution_count": 13,
   "id": "96910e2e-ba71-4536-89f3-835b21d0c300",
   "metadata": {},
   "outputs": [
    {
     "name": "stdout",
     "output_type": "stream",
     "text": [
      "DataFrame filled with median:\n",
      "      A     B\n",
      "0  10.0   5.0\n",
      "1  20.0  15.0\n",
      "2  20.0  15.0\n",
      "3  40.0  15.0\n",
      "4  20.0  25.0\n"
     ]
    }
   ],
   "source": [
    "#Filling missing values with median\n",
    "import pandas as pd\n",
    "data = {'A': [10, 20, None, 40, None],\n",
    "        'B': [5, None, 15, None, 25]}\n",
    "df = pd.DataFrame(data)\n",
    "df_filled_median = df.fillna(df.median())\n",
    "print(\"DataFrame filled with median:\")\n",
    "print(df_filled_median)"
   ]
  }
 ],
 "metadata": {
  "kernelspec": {
   "display_name": "Python 3 (ipykernel)",
   "language": "python",
   "name": "python3"
  },
  "language_info": {
   "codemirror_mode": {
    "name": "ipython",
    "version": 3
   },
   "file_extension": ".py",
   "mimetype": "text/x-python",
   "name": "python",
   "nbconvert_exporter": "python",
   "pygments_lexer": "ipython3",
   "version": "3.11.7"
  }
 },
 "nbformat": 4,
 "nbformat_minor": 5
}
