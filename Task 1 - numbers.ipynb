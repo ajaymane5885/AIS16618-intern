{
 "cells": [
  {
   "cell_type": "markdown",
   "id": "55a7c68d-e69e-48a2-8bcb-625008222274",
   "metadata": {},
   "source": [
    "Numbers and Methods"
   ]
  },
  {
   "cell_type": "raw",
   "id": "b096971a-8a36-4727-90da-9091e0ae7b85",
   "metadata": {},
   "source": [
    "#There are three numeric types in Python:\n",
    "1.int\n",
    "2.float\n",
    "3.complex"
   ]
  },
  {
   "cell_type": "code",
   "execution_count": 5,
   "id": "42d97998-6f31-46b3-936a-36bafaf488fd",
   "metadata": {},
   "outputs": [
    {
     "name": "stdout",
     "output_type": "stream",
     "text": [
      "<class 'int'>\n",
      "<class 'int'>\n"
     ]
    }
   ],
   "source": [
    "#Integer\n",
    "x = 3\n",
    "y = -234225\n",
    "print(type(x))\n",
    "print(type(y))"
   ]
  },
  {
   "cell_type": "code",
   "execution_count": 6,
   "id": "38cdcaa5-e4fa-411d-9db7-d4cdcfecb688",
   "metadata": {},
   "outputs": [
    {
     "name": "stdout",
     "output_type": "stream",
     "text": [
      "<class 'float'>\n",
      "<class 'float'>\n"
     ]
    }
   ],
   "source": [
    "#Float\n",
    "x = 2.22\n",
    "y = -52.21\n",
    "print(type(x))\n",
    "print(type(y))"
   ]
  },
  {
   "cell_type": "code",
   "execution_count": 11,
   "id": "020fddb0-3ee0-4de4-954b-5fc5a7bae235",
   "metadata": {},
   "outputs": [
    {
     "name": "stdout",
     "output_type": "stream",
     "text": [
      "<class 'complex'>\n",
      "<class 'complex'>\n"
     ]
    }
   ],
   "source": [
    "#Complex\n",
    "x = 3+5j\n",
    "y = -5j\n",
    "print(type(x))\n",
    "print(type(y))"
   ]
  }
 ],
 "metadata": {
  "kernelspec": {
   "display_name": "Python 3 (ipykernel)",
   "language": "python",
   "name": "python3"
  },
  "language_info": {
   "codemirror_mode": {
    "name": "ipython",
    "version": 3
   },
   "file_extension": ".py",
   "mimetype": "text/x-python",
   "name": "python",
   "nbconvert_exporter": "python",
   "pygments_lexer": "ipython3",
   "version": "3.11.7"
  }
 },
 "nbformat": 4,
 "nbformat_minor": 5
}
