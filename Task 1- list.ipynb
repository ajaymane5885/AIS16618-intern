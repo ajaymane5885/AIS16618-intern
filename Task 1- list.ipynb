{
 "cells": [
  {
   "cell_type": "markdown",
   "id": "f64f9d25-e8ef-4e07-b588-d1554000f730",
   "metadata": {},
   "source": [
    "List and Methods"
   ]
  },
  {
   "cell_type": "code",
   "execution_count": 2,
   "id": "5cba60a2-356f-489a-8295-22936d0fd6d5",
   "metadata": {},
   "outputs": [
    {
     "data": {
      "text/plain": [
       "['banana', 50, 'mango', 5, 'apple', 40, 'orange']"
      ]
     },
     "execution_count": 2,
     "metadata": {},
     "output_type": "execute_result"
    }
   ],
   "source": [
    "#List creation [] ()\n",
    "l1=[\"banana\",50,\"mango\",5,\"apple\",40,\"orange\"]\n",
    "l1"
   ]
  },
  {
   "cell_type": "code",
   "execution_count": 3,
   "id": "cf3e6316-295d-41b3-9f74-80d9a5a21a18",
   "metadata": {},
   "outputs": [
    {
     "data": {
      "text/plain": [
       "list"
      ]
     },
     "execution_count": 3,
     "metadata": {},
     "output_type": "execute_result"
    }
   ],
   "source": [
    "type(l1)"
   ]
  },
  {
   "cell_type": "code",
   "execution_count": 4,
   "id": "dee9ac6e-c879-4698-8f44-85eaf378dc32",
   "metadata": {},
   "outputs": [
    {
     "data": {
      "text/plain": [
       "[]"
      ]
     },
     "execution_count": 4,
     "metadata": {},
     "output_type": "execute_result"
    }
   ],
   "source": [
    "#empty list\n",
    "my_list=[]\n",
    "my_list"
   ]
  },
  {
   "cell_type": "code",
   "execution_count": 5,
   "id": "ce3d1f9c-298d-490b-8872-e8f38b6aaf31",
   "metadata": {},
   "outputs": [
    {
     "data": {
      "text/plain": [
       "[1, 2, 3]"
      ]
     },
     "execution_count": 5,
     "metadata": {},
     "output_type": "execute_result"
    }
   ],
   "source": [
    "#list of integers\n",
    "my_list=[1,2,3]\n",
    "my_list"
   ]
  },
  {
   "cell_type": "code",
   "execution_count": 6,
   "id": "02fd036b-8bca-4fa4-a271-f412b29d07e6",
   "metadata": {},
   "outputs": [
    {
     "data": {
      "text/plain": [
       "[3, 'hello', 5.4]"
      ]
     },
     "execution_count": 6,
     "metadata": {},
     "output_type": "execute_result"
    }
   ],
   "source": [
    "#list with mixed datatypes\n",
    "my_list=[3,\"hello\",5.4]\n",
    "my_list"
   ]
  },
  {
   "cell_type": "code",
   "execution_count": 1,
   "id": "610b57bf-09b3-42d6-8c79-f3f4c1f8cf24",
   "metadata": {},
   "outputs": [
    {
     "data": {
      "text/plain": [
       "[['mouse', 7, 3], 5, ['a']]"
      ]
     },
     "execution_count": 1,
     "metadata": {},
     "output_type": "execute_result"
    }
   ],
   "source": [
    "#nested list\n",
    "my_list=[[\"mouse\",7,3],5,['a']]\n",
    "my_list"
   ]
  },
  {
   "cell_type": "code",
   "execution_count": 10,
   "id": "b000cea5-0945-4a57-8e9a-5df4fe626969",
   "metadata": {},
   "outputs": [
    {
     "data": {
      "text/plain": [
       "'banana'"
      ]
     },
     "execution_count": 10,
     "metadata": {},
     "output_type": "execute_result"
    }
   ],
   "source": [
    "#Accesing the items\n",
    "l1[0]"
   ]
  },
  {
   "cell_type": "code",
   "execution_count": 20,
   "id": "f4eeb250-2030-4bc7-8b0a-3650c18d8c95",
   "metadata": {},
   "outputs": [
    {
     "data": {
      "text/plain": [
       "['a', 'b', 'c', 'd', 'e']"
      ]
     },
     "execution_count": 20,
     "metadata": {},
     "output_type": "execute_result"
    }
   ],
   "source": [
    "my_list=['a','b','c','d','e']\n",
    "my_list"
   ]
  },
  {
   "cell_type": "code",
   "execution_count": 21,
   "id": "05e075ce-3573-4632-a77d-5fab4e99879d",
   "metadata": {},
   "outputs": [
    {
     "name": "stdout",
     "output_type": "stream",
     "text": [
      "e\n"
     ]
    }
   ],
   "source": [
    "print(my_list[4])"
   ]
  },
  {
   "cell_type": "code",
   "execution_count": 22,
   "id": "ccdcb561-34fb-49a3-a182-56e34317b98e",
   "metadata": {},
   "outputs": [
    {
     "data": {
      "text/plain": [
       "'d'"
      ]
     },
     "execution_count": 22,
     "metadata": {},
     "output_type": "execute_result"
    }
   ],
   "source": [
    "my_list[-2]"
   ]
  },
  {
   "cell_type": "code",
   "execution_count": 23,
   "id": "2fdef164-2dda-41d3-a2e2-9bdc1ab9c7e6",
   "metadata": {},
   "outputs": [
    {
     "data": {
      "text/plain": [
       "['a', 'b', 'c', 'd', 'e']"
      ]
     },
     "execution_count": 23,
     "metadata": {},
     "output_type": "execute_result"
    }
   ],
   "source": [
    "my_list[:]"
   ]
  },
  {
   "cell_type": "code",
   "execution_count": 24,
   "id": "8047c10e-8929-4192-8ab6-b768b53d7362",
   "metadata": {},
   "outputs": [
    {
     "name": "stdout",
     "output_type": "stream",
     "text": [
      "['c', 'd', 'e']\n"
     ]
    }
   ],
   "source": [
    "#elements 2nd to 4th\n",
    "print(my_list[2:5])"
   ]
  },
  {
   "cell_type": "code",
   "execution_count": 25,
   "id": "45305a73-6d8f-447e-801f-dd44ebe63a65",
   "metadata": {},
   "outputs": [
    {
     "name": "stdout",
     "output_type": "stream",
     "text": [
      "['d', 'e']\n"
     ]
    }
   ],
   "source": [
    "#elements 3rd to end\n",
    "print(my_list[3:])"
   ]
  },
  {
   "cell_type": "code",
   "execution_count": 27,
   "id": "e8e060d4-a6dd-4f6d-8578-e9659890f873",
   "metadata": {},
   "outputs": [
    {
     "data": {
      "text/plain": [
       "['banana', 'blackcurrant', 'mango', 5, 'apple', 40, 'orange']"
      ]
     },
     "execution_count": 27,
     "metadata": {},
     "output_type": "execute_result"
    }
   ],
   "source": [
    "#change the item value\n",
    "l1[1]=\"blackcurrant\"\n",
    "l1"
   ]
  },
  {
   "cell_type": "code",
   "execution_count": 28,
   "id": "5cf4db71-01fb-48b1-bd4e-43bdf8a0ef74",
   "metadata": {},
   "outputs": [
    {
     "data": {
      "text/plain": [
       "7"
      ]
     },
     "execution_count": 28,
     "metadata": {},
     "output_type": "execute_result"
    }
   ],
   "source": [
    "#list length\n",
    "len(l1)"
   ]
  },
  {
   "cell_type": "code",
   "execution_count": 1,
   "id": "c4353872-403c-4aac-a074-249173e196f5",
   "metadata": {},
   "outputs": [
    {
     "name": "stdout",
     "output_type": "stream",
     "text": [
      "['apple', 'banana', 'cherry', 'orange']\n"
     ]
    }
   ],
   "source": [
    "#Using the append() method to append an item\n",
    "my_list = [\"apple\", \"banana\", \"cherry\"]\n",
    "my_list.append(\"orange\")\n",
    "print(my_list)"
   ]
  },
  {
   "cell_type": "code",
   "execution_count": 4,
   "id": "cdf9ca7f-5f7a-47da-a947-f947b9ba6220",
   "metadata": {},
   "outputs": [
    {
     "name": "stdout",
     "output_type": "stream",
     "text": [
      "['apple', 'orange', 'banana', 'cherry']\n"
     ]
    }
   ],
   "source": [
    "#Insert an item as the second position\n",
    "my_list = [\"apple\", \"banana\", \"cherry\"]\n",
    "my_list.insert(1, \"orange\")\n",
    "print(my_list)"
   ]
  },
  {
   "cell_type": "code",
   "execution_count": 5,
   "id": "c8638da5-569d-4699-bf1d-1c628cc5ec94",
   "metadata": {},
   "outputs": [
    {
     "name": "stdout",
     "output_type": "stream",
     "text": [
      "['apple', 'cherry']\n"
     ]
    }
   ],
   "source": [
    "#Remove the second item\n",
    "my_list = [\"apple\", \"banana\", \"cherry\"]\n",
    "my_list.pop(1)\n",
    "print(my_list)"
   ]
  },
  {
   "cell_type": "code",
   "execution_count": 6,
   "id": "2e7c7c2a-8879-4ccc-af3e-cd4840f79414",
   "metadata": {},
   "outputs": [
    {
     "name": "stdout",
     "output_type": "stream",
     "text": [
      "['banana', 'kiwi', 'mango', 'orange', 'pineapple']\n"
     ]
    }
   ],
   "source": [
    "#Sort the list alphabetically\n",
    "my_list = [\"orange\", \"mango\", \"kiwi\", \"pineapple\", \"banana\"]\n",
    "my_list.sort()\n",
    "print(my_list)"
   ]
  },
  {
   "cell_type": "code",
   "execution_count": 7,
   "id": "51db1bfc-70e1-4307-aaef-766a102aee81",
   "metadata": {},
   "outputs": [
    {
     "name": "stdout",
     "output_type": "stream",
     "text": [
      "['apple', 'banana', 'cherry']\n"
     ]
    }
   ],
   "source": [
    "#Make a copy of a list with the copy() method\n",
    "thislist = [\"apple\", \"banana\", \"cherry\"]\n",
    "my_list = thislist.copy()\n",
    "print(my_list)"
   ]
  },
  {
   "cell_type": "code",
   "execution_count": 8,
   "id": "a21fcbb8-ddd8-428c-9965-4025b4f4dade",
   "metadata": {},
   "outputs": [
    {
     "name": "stdout",
     "output_type": "stream",
     "text": [
      "['a', 'b', 'c', 1, 2, 3]\n"
     ]
    }
   ],
   "source": [
    "#Join two list\n",
    "list1 = [\"a\", \"b\", \"c\"]\n",
    "list2 = [1, 2, 3]\n",
    "list3 = list1 + list2\n",
    "print(list3)"
   ]
  }
 ],
 "metadata": {
  "kernelspec": {
   "display_name": "Python 3 (ipykernel)",
   "language": "python",
   "name": "python3"
  },
  "language_info": {
   "codemirror_mode": {
    "name": "ipython",
    "version": 3
   },
   "file_extension": ".py",
   "mimetype": "text/x-python",
   "name": "python",
   "nbconvert_exporter": "python",
   "pygments_lexer": "ipython3",
   "version": "3.11.7"
  }
 },
 "nbformat": 4,
 "nbformat_minor": 5
}
