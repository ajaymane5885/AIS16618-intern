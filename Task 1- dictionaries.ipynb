{
 "cells": [
  {
   "cell_type": "markdown",
   "id": "56b3aad9-4dcb-4d4e-995f-c5f8cfd41d2b",
   "metadata": {},
   "source": [
    "Dictionaries and Method"
   ]
  },
  {
   "cell_type": "code",
   "execution_count": 3,
   "id": "30a59e71-6623-456b-8e2e-5e29838f1c58",
   "metadata": {},
   "outputs": [
    {
     "name": "stdout",
     "output_type": "stream",
     "text": [
      "{'name': 'Ajay', 'Roll No': '16618', 'Dep': 'Stat'}\n"
     ]
    }
   ],
   "source": [
    "my_dict = {\"name\":\"Ajay\",\n",
    "           \"Roll No\":\"16618\",\n",
    "           \"Dep\":\"Stat\"}\n",
    "print(my_dict)"
   ]
  },
  {
   "cell_type": "code",
   "execution_count": 4,
   "id": "a33935aa-3245-40e6-8a41-7576cff3283b",
   "metadata": {},
   "outputs": [
    {
     "name": "stdout",
     "output_type": "stream",
     "text": [
      "Ajay\n"
     ]
    }
   ],
   "source": [
    "my_dict = {\"name\":\"Ajay\",\n",
    "           \"Roll No\":\"16618\",\n",
    "           \"Dep\":\"Stat\"}\n",
    "print(my_dict[\"name\"])"
   ]
  },
  {
   "cell_type": "code",
   "execution_count": 5,
   "id": "ea58de33-dbeb-4ca7-968d-c236af0af037",
   "metadata": {},
   "outputs": [
    {
     "name": "stdout",
     "output_type": "stream",
     "text": [
      "3\n"
     ]
    }
   ],
   "source": [
    "print(len(my_dict))"
   ]
  },
  {
   "cell_type": "code",
   "execution_count": 6,
   "id": "bf2e2756-e098-45bb-bade-7c9abd643cb3",
   "metadata": {},
   "outputs": [
    {
     "name": "stdout",
     "output_type": "stream",
     "text": [
      "<class 'dict'>\n"
     ]
    }
   ],
   "source": [
    "print(type(my_dict))"
   ]
  },
  {
   "cell_type": "code",
   "execution_count": 11,
   "id": "e9d364f4-d2ec-4a3f-8466-bdfe2a9f2194",
   "metadata": {},
   "outputs": [
    {
     "data": {
      "text/plain": [
       "'Ajay'"
      ]
     },
     "execution_count": 11,
     "metadata": {},
     "output_type": "execute_result"
    }
   ],
   "source": [
    "my_dict.get(\"name\")"
   ]
  },
  {
   "cell_type": "code",
   "execution_count": 12,
   "id": "8ae49ba4-f0fa-4d3f-a525-d4f713cfb5e9",
   "metadata": {},
   "outputs": [
    {
     "data": {
      "text/plain": [
       "dict_keys(['name', 'Roll No', 'Dep'])"
      ]
     },
     "execution_count": 12,
     "metadata": {},
     "output_type": "execute_result"
    }
   ],
   "source": [
    "my_dict.keys()"
   ]
  },
  {
   "cell_type": "code",
   "execution_count": 13,
   "id": "7dc2d40c-8ea8-441b-b31a-b3e28bb52b45",
   "metadata": {},
   "outputs": [
    {
     "data": {
      "text/plain": [
       "dict_values(['Ajay', '16618', 'Stat'])"
      ]
     },
     "execution_count": 13,
     "metadata": {},
     "output_type": "execute_result"
    }
   ],
   "source": [
    "my_dict.values()"
   ]
  },
  {
   "cell_type": "code",
   "execution_count": 14,
   "id": "be1c5ad6-f20f-4ae2-9703-b40e7130be8f",
   "metadata": {},
   "outputs": [
    {
     "data": {
      "text/plain": [
       "dict_items([('name', 'Ajay'), ('Roll No', '16618'), ('Dep', 'Stat')])"
      ]
     },
     "execution_count": 14,
     "metadata": {},
     "output_type": "execute_result"
    }
   ],
   "source": [
    "my_dict.items()"
   ]
  },
  {
   "cell_type": "code",
   "execution_count": 16,
   "id": "5bc6d183-9997-4d0c-a785-b6c01eb25f63",
   "metadata": {},
   "outputs": [
    {
     "name": "stdout",
     "output_type": "stream",
     "text": [
      "{'name': 'Ajay', 'Roll No': 16619, 'Dep': 'Stat'}\n"
     ]
    }
   ],
   "source": [
    "my_dict.update({\"Roll No\": 16619})\n",
    "print(my_dict)"
   ]
  },
  {
   "cell_type": "code",
   "execution_count": 17,
   "id": "ab85a6b1-f952-4dc9-942a-6c07bb8ad66a",
   "metadata": {},
   "outputs": [
    {
     "name": "stdout",
     "output_type": "stream",
     "text": [
      "{'name': 'Ajay', 'Roll No': 16619}\n"
     ]
    }
   ],
   "source": [
    "my_dict.pop(\"Dep\")\n",
    "print(my_dict)"
   ]
  },
  {
   "cell_type": "code",
   "execution_count": 24,
   "id": "702fb051-25ca-460b-b204-2679bc81044d",
   "metadata": {},
   "outputs": [
    {
     "name": "stdout",
     "output_type": "stream",
     "text": [
      "{'name': 'Ajay', 'Roll No': '16618'}\n"
     ]
    }
   ],
   "source": [
    "my_dict = {\"name\":\"Ajay\",\n",
    "           \"Roll No\":\"16618\",\n",
    "           \"Dep\":\"Stat\"}\n",
    "my_dict.popitem()\n",
    "print(my_dict)"
   ]
  },
  {
   "cell_type": "code",
   "execution_count": 19,
   "id": "cfb12a2a-0571-4c1f-9fea-df5ebe171662",
   "metadata": {},
   "outputs": [
    {
     "name": "stdout",
     "output_type": "stream",
     "text": [
      "{}\n"
     ]
    }
   ],
   "source": [
    "my_dict.clear()\n",
    "print(my_dict)"
   ]
  },
  {
   "cell_type": "code",
   "execution_count": 25,
   "id": "8d8e284c-7ea2-4f61-b121-2ec7896d9584",
   "metadata": {},
   "outputs": [
    {
     "name": "stdout",
     "output_type": "stream",
     "text": [
      "{'name': 'Ajay', 'Roll No': '16618', 'Dep': 'Stat'}\n"
     ]
    }
   ],
   "source": [
    "my_dict = {\"name\":\"Ajay\",\n",
    "           \"Roll No\":\"16618\",\n",
    "           \"Dep\":\"Stat\"}\n",
    "this_dict = my_dict.copy()\n",
    "print(this_dict)"
   ]
  }
 ],
 "metadata": {
  "kernelspec": {
   "display_name": "Python 3 (ipykernel)",
   "language": "python",
   "name": "python3"
  },
  "language_info": {
   "codemirror_mode": {
    "name": "ipython",
    "version": 3
   },
   "file_extension": ".py",
   "mimetype": "text/x-python",
   "name": "python",
   "nbconvert_exporter": "python",
   "pygments_lexer": "ipython3",
   "version": "3.11.7"
  }
 },
 "nbformat": 4,
 "nbformat_minor": 5
}
