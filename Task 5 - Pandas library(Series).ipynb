{
 "cells": [
  {
   "cell_type": "markdown",
   "id": "bdc2b6d3-aa58-4125-acd9-458dc3784073",
   "metadata": {},
   "source": [
    "# Pandas Library"
   ]
  },
  {
   "cell_type": "markdown",
   "id": "cf815e5c-c405-472f-b8bd-d8dfc10c384b",
   "metadata": {},
   "source": [
    "# Series:"
   ]
  },
  {
   "cell_type": "code",
   "execution_count": 2,
   "id": "8d4bbc56-4539-45db-947c-b4f921f53be0",
   "metadata": {},
   "outputs": [
    {
     "name": "stdout",
     "output_type": "stream",
     "text": [
      "0    5\n",
      "1    2\n",
      "2    7\n",
      "dtype: int64\n"
     ]
    }
   ],
   "source": [
    "#Create a simple Pandas Series from a list\n",
    "import pandas as pd\n",
    "a = [5,2,7]\n",
    "myvar = pd.Series(a)\n",
    "print(myvar)"
   ]
  },
  {
   "cell_type": "code",
   "execution_count": 12,
   "id": "c64a0f57-dc73-4acf-8941-495070e397ec",
   "metadata": {},
   "outputs": [
    {
     "name": "stdout",
     "output_type": "stream",
     "text": [
      "5\n"
     ]
    }
   ],
   "source": [
    "#Return the first value of the Series\n",
    "import pandas as pd\n",
    "a = [5,2,7]\n",
    "myvar = pd.Series(a)\n",
    "print(myvar[0])"
   ]
  },
  {
   "cell_type": "code",
   "execution_count": 17,
   "id": "0c7727d0-c290-4b1b-81b0-c2c705c85125",
   "metadata": {},
   "outputs": [
    {
     "name": "stdout",
     "output_type": "stream",
     "text": [
      "A    5\n",
      "B    2\n",
      "C    7\n",
      "dtype: int64\n"
     ]
    }
   ],
   "source": [
    "#Create your own labels\n",
    "import pandas as pd\n",
    "a = [5,2,7]\n",
    "myvar = pd.Series(a, index = [\"A\", \"B\", \"C\"])\n",
    "print(myvar)"
   ]
  },
  {
   "cell_type": "code",
   "execution_count": 13,
   "id": "6e2a16c8-bf50-4b64-a5e7-3fcdafed3ccd",
   "metadata": {},
   "outputs": [
    {
     "name": "stdout",
     "output_type": "stream",
     "text": [
      "7\n"
     ]
    }
   ],
   "source": [
    "#Return the value of \"C\"\n",
    "import pandas as pd\n",
    "a = [5,2,7]\n",
    "myvar = pd.Series(a, index = [\"A\", \"B\", \"C\"])\n",
    "print(myvar[\"C\"])"
   ]
  },
  {
   "cell_type": "code",
   "execution_count": 9,
   "id": "8f521c2d-f00e-4a8c-8978-8c9356f3797a",
   "metadata": {},
   "outputs": [
    {
     "name": "stdout",
     "output_type": "stream",
     "text": [
      "day1    310\n",
      "day2    270\n",
      "day3    280\n",
      "dtype: int64\n"
     ]
    }
   ],
   "source": [
    "#Create a simple Pandas Series from a dictionary\n",
    "import pandas as pd\n",
    "calories =  {\"day1\": 310, \"day2\": 270, \"day3\": 280}\n",
    "myvar = pd.Series(calories)\n",
    "print(myvar)"
   ]
  },
  {
   "cell_type": "code",
   "execution_count": 10,
   "id": "f1acca03-fa11-495c-8f17-46d6030b035a",
   "metadata": {},
   "outputs": [
    {
     "name": "stdout",
     "output_type": "stream",
     "text": [
      "day2    270\n",
      "day3    280\n",
      "dtype: int64\n"
     ]
    }
   ],
   "source": [
    "#Create a Series using only data from \"day2\" and \"day3\"\n",
    "import pandas as pd\n",
    "calories = {\"day1\": 310, \"day2\": 270, \"day3\": 280}\n",
    "myvar = pd.Series(calories, index = [\"day2\", \"day3\"])\n",
    "print(myvar)"
   ]
  },
  {
   "cell_type": "code",
   "execution_count": 14,
   "id": "c7a26127-2646-41bd-9eca-91a8056523da",
   "metadata": {},
   "outputs": [
    {
     "name": "stdout",
     "output_type": "stream",
     "text": [
      "   calories  duration\n",
      "0       310        40\n",
      "1       270        30\n",
      "2       280        35\n"
     ]
    }
   ],
   "source": [
    "#Create a DataFrame from two Series\n",
    "import pandas as pd\n",
    "data = {\n",
    "  \"calories\": [310, 270, 280],\n",
    "  \"duration\": [40, 30, 35]\n",
    "}\n",
    "myvar = pd.DataFrame(data)\n",
    "print(myvar)"
   ]
  },
  {
   "cell_type": "code",
   "execution_count": 20,
   "id": "67193e75-4fea-4d05-b499-a23e63c4fe3d",
   "metadata": {},
   "outputs": [
    {
     "name": "stdout",
     "output_type": "stream",
     "text": [
      "Adding two series element-wise:\n",
      "0    11\n",
      "1    22\n",
      "2    33\n",
      "3    44\n",
      "4    55\n",
      "dtype: int64\n"
     ]
    }
   ],
   "source": [
    "#Adding Two Series Element-wise\n",
    "import pandas as pd\n",
    "series1 = pd.Series([1, 2, 3, 4, 5])\n",
    "series2 = pd.Series([10, 20, 30, 40, 50])\n",
    "result_addition = series1 + series2\n",
    "print(\"Adding two series element-wise:\")\n",
    "print(result_addition)"
   ]
  },
  {
   "cell_type": "code",
   "execution_count": 21,
   "id": "92459f0b-d649-4665-adf0-cc41bea9fd07",
   "metadata": {},
   "outputs": [
    {
     "name": "stdout",
     "output_type": "stream",
     "text": [
      "Multiplying each element by 10:\n",
      "0     25\n",
      "1     50\n",
      "2     75\n",
      "3    100\n",
      "4    125\n",
      "dtype: int64\n"
     ]
    }
   ],
   "source": [
    "#Multiplying Each Element of a Series by a Scalar\n",
    "import pandas as pd\n",
    "series = pd.Series([1, 2, 3, 4, 5])\n",
    "result_multiplication = series * 25\n",
    "print(\"Multiplying each element by 10:\")\n",
    "print(result_multiplication)"
   ]
  },
  {
   "cell_type": "code",
   "execution_count": 22,
   "id": "9fab36ef-ebee-4a2d-bb58-1c2b6dfa71bc",
   "metadata": {},
   "outputs": [
    {
     "name": "stdout",
     "output_type": "stream",
     "text": [
      "Filtering elements greater than 10:\n",
      "1    20\n",
      "2    30\n",
      "3    40\n",
      "4    50\n",
      "dtype: int64\n"
     ]
    }
   ],
   "source": [
    "#Filtering Elements Based on a Condition\n",
    "import pandas as pd\n",
    "series = pd.Series([10, 20, 30, 40, 50])\n",
    "result_filter = series[series > 10]\n",
    "print(\"Filtering elements greater than 10:\")\n",
    "print(result_filter)"
   ]
  },
  {
   "cell_type": "code",
   "execution_count": 23,
   "id": "a3da4caa-9aff-4f1d-bdad-b1949b3e560c",
   "metadata": {},
   "outputs": [
    {
     "name": "stdout",
     "output_type": "stream",
     "text": [
      "Filtering elements within the range [15, 25]:\n",
      "1    15\n",
      "2    20\n",
      "3    25\n",
      "dtype: int64\n"
     ]
    }
   ],
   "source": [
    "#Filtering Elements Within a Range\n",
    "import pandas as pd\n",
    "series = pd.Series([10, 15, 20, 25, 30])\n",
    "result_filter = series[(series >= 15) & (series <= 25)]\n",
    "print(\"Filtering elements within the range [15, 25]:\")\n",
    "print(result_filter)"
   ]
  },
  {
   "cell_type": "code",
   "execution_count": 25,
   "id": "d8ee9be4-fcfc-4d32-baa6-d3415b86aa32",
   "metadata": {},
   "outputs": [
    {
     "name": "stdout",
     "output_type": "stream",
     "text": [
      "Filling missing values with 5:\n",
      "0    1.0\n",
      "1    2.0\n",
      "2    5.0\n",
      "3    4.0\n",
      "4    5.0\n",
      "dtype: float64\n"
     ]
    }
   ],
   "source": [
    "#Filling Missing Values with a Specific Value\n",
    "import pandas as pd\n",
    "import numpy as np\n",
    "series_with_nan = pd.Series([1, 2, np.nan, 4, np.nan])\n",
    "result_filled = series_with_nan.fillna(5)\n",
    "print(\"Filling missing values with 5:\")\n",
    "print(result_filled)"
   ]
  },
  {
   "cell_type": "code",
   "execution_count": 26,
   "id": "7452649f-530c-4fc2-bf23-dadc38c96775",
   "metadata": {},
   "outputs": [
    {
     "name": "stdout",
     "output_type": "stream",
     "text": [
      "Sorted series by index:\n",
      "e    3\n",
      "f    1\n",
      "g    4\n",
      "h    1\n",
      "i    5\n",
      "dtype: int64\n"
     ]
    }
   ],
   "source": [
    "#Sorting series by Index\n",
    "import pandas as pd\n",
    "series = pd.Series([3, 1, 4, 1, 5], index=['e', 'f', 'g', 'h', 'i'])\n",
    "sorted_series = series.sort_index()\n",
    "print(\"Sorted series by index:\")\n",
    "print(sorted_series)"
   ]
  },
  {
   "cell_type": "code",
   "execution_count": 27,
   "id": "63a303cb-d66e-4b82-b73b-b6611eec6ba6",
   "metadata": {},
   "outputs": [
    {
     "name": "stdout",
     "output_type": "stream",
     "text": [
      "Strings converted to lowercase:\n",
      "0         apple\n",
      "1        banana\n",
      "2        cherry\n",
      "3          date\n",
      "4    elderberry\n",
      "dtype: object\n"
     ]
    }
   ],
   "source": [
    "#Converting String to Lowercase\n",
    "import pandas as pd\n",
    "series = pd.Series(['Apple', 'Banana', 'Cherry', 'Date', 'Elderberry'])\n",
    "lowercase_series = series.str.lower()\n",
    "print(\"Strings converted to lowercase:\")\n",
    "print(lowercase_series)"
   ]
  },
  {
   "cell_type": "code",
   "execution_count": 29,
   "id": "88f7d38b-d782-4eba-88b8-a5beece7ae81",
   "metadata": {},
   "outputs": [
    {
     "name": "stdout",
     "output_type": "stream",
     "text": [
      "Concatenated series horizontally:\n",
      "0    1\n",
      "1    2\n",
      "2    3\n",
      "0    4\n",
      "1    5\n",
      "2    6\n",
      "dtype: int64\n"
     ]
    }
   ],
   "source": [
    "#Concatenating Two Series Horizontally\n",
    "import pandas as pd\n",
    "series1 = pd.Series([1, 2, 3])\n",
    "series2 = pd.Series([4, 5, 6])\n",
    "concatenated_series = pd.concat([series1, series2])\n",
    "print(\"Concatenated series horizontally:\")\n",
    "print(concatenated_series)"
   ]
  }
 ],
 "metadata": {
  "kernelspec": {
   "display_name": "Python 3 (ipykernel)",
   "language": "python",
   "name": "python3"
  },
  "language_info": {
   "codemirror_mode": {
    "name": "ipython",
    "version": 3
   },
   "file_extension": ".py",
   "mimetype": "text/x-python",
   "name": "python",
   "nbconvert_exporter": "python",
   "pygments_lexer": "ipython3",
   "version": "3.11.7"
  }
 },
 "nbformat": 4,
 "nbformat_minor": 5
}
