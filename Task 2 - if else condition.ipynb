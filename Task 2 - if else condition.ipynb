{
 "cells": [
  {
   "cell_type": "markdown",
   "id": "f053af29-572e-46fa-8a1f-f6c007e60697",
   "metadata": {},
   "source": [
    "If else conditions"
   ]
  },
  {
   "cell_type": "code",
   "execution_count": 1,
   "id": "faa2c17b-f434-41e0-88a3-3746b5fcb3ff",
   "metadata": {},
   "outputs": [
    {
     "name": "stdout",
     "output_type": "stream",
     "text": [
      "x is greater than 5\n"
     ]
    }
   ],
   "source": [
    "#1.Basic if-else Statement\n",
    "x = 10\n",
    "if x > 5:\n",
    "    print(\"x is greater than 5\")\n",
    "else:\n",
    "    print(\"x is not greater than 5\")"
   ]
  },
  {
   "cell_type": "code",
   "execution_count": 2,
   "id": "6ac39720-4082-473e-b399-f26b9059fc38",
   "metadata": {},
   "outputs": [
    {
     "name": "stdout",
     "output_type": "stream",
     "text": [
      "x is between 5 and 15\n"
     ]
    }
   ],
   "source": [
    "#2.Nested if-else\n",
    "x = 10\n",
    "if x > 5:\n",
    "    if x < 15:\n",
    "        print(\"x is between 5 and 15\")\n",
    "    else:\n",
    "        print(\"x is greater than or equal to 15\")\n",
    "else:\n",
    "    print(\"x is less than or equal to 5\")"
   ]
  },
  {
   "cell_type": "code",
   "execution_count": 3,
   "id": "b84eeec3-fedb-4efd-84f2-d4db2afff09f",
   "metadata": {},
   "outputs": [
    {
     "name": "stdout",
     "output_type": "stream",
     "text": [
      "['odd', 'even', 'odd', 'even', 'odd']\n"
     ]
    }
   ],
   "source": [
    "#3.Using if-else in List Comprehension\n",
    "numbers = [1, 2, 3, 4, 5]\n",
    "even_odd = [\"even\" if num % 2 == 0 else \"odd\" for num in numbers]\n",
    "print(even_odd)"
   ]
  },
  {
   "cell_type": "code",
   "execution_count": 4,
   "id": "1b03783d-0a51-4a13-93e9-017ba962540d",
   "metadata": {},
   "outputs": [
    {
     "name": "stdout",
     "output_type": "stream",
     "text": [
      "Leap year\n"
     ]
    }
   ],
   "source": [
    "#4.Checking Leap Year\n",
    "year = 2024\n",
    "if (year % 4 == 0 and year % 100 != 0) or (year % 400 == 0):\n",
    "    print(\"Leap year\")\n",
    "else:\n",
    "    print(\"Not a leap year\")"
   ]
  },
  {
   "cell_type": "code",
   "execution_count": 5,
   "id": "aa48ecbb-0d96-4b1b-afb1-bce96e8234a9",
   "metadata": {},
   "outputs": [
    {
     "name": "stdout",
     "output_type": "stream",
     "text": [
      "Odd\n"
     ]
    }
   ],
   "source": [
    "#5.Checking if a Number is Even or Odd\n",
    "num = 11\n",
    "if num % 2 == 0:\n",
    "    print(\"Even\")\n",
    "else:\n",
    "    print(\"Odd\")"
   ]
  },
  {
   "cell_type": "code",
   "execution_count": 6,
   "id": "a98696db-6777-446f-a80d-18b33dba04d8",
   "metadata": {},
   "outputs": [
    {
     "name": "stdout",
     "output_type": "stream",
     "text": [
      "20\n"
     ]
    }
   ],
   "source": [
    "#6.Assigning Variable based on Condition\n",
    "x = 10\n",
    "y = 20 if x > 5 else 5\n",
    "print(y)"
   ]
  },
  {
   "cell_type": "code",
   "execution_count": 7,
   "id": "4619f966-27cd-42cc-ac05-3deac1afe5f7",
   "metadata": {},
   "outputs": [
    {
     "name": "stdout",
     "output_type": "stream",
     "text": [
      "Palindrome\n"
     ]
    }
   ],
   "source": [
    "#7.Checking if a String is Palindrome\n",
    "string = \"racecar\"\n",
    "if string == string[::-1]:\n",
    "    print(\"Palindrome\")\n",
    "else:\n",
    "    print(\"Not Palindrome\")"
   ]
  },
  {
   "cell_type": "code",
   "execution_count": 8,
   "id": "8621db32-5a59-41f0-bcbc-87362f951378",
   "metadata": {},
   "outputs": [
    {
     "name": "stdout",
     "output_type": "stream",
     "text": [
      "Perfect Square\n"
     ]
    }
   ],
   "source": [
    "#8.Checking if a Number is a Perfect Square\n",
    "num = 16\n",
    "if num**0.5 == int(num**0.5):\n",
    "    print(\"Perfect Square\")\n",
    "else:\n",
    "    print(\"Not a Perfect Square\")"
   ]
  },
  {
   "cell_type": "code",
   "execution_count": 9,
   "id": "6e6c65a1-9159-41ad-8988-5cdbdf2d99ca",
   "metadata": {},
   "outputs": [
    {
     "name": "stdout",
     "output_type": "stream",
     "text": [
      "Vowel\n"
     ]
    }
   ],
   "source": [
    "#9.Checking if a Character is a Vowel or Consonant\n",
    "char = 'a'\n",
    "if char.lower() in 'aeiou':\n",
    "    print(\"Vowel\")\n",
    "else:\n",
    "    print(\"Consonant\")"
   ]
  },
  {
   "cell_type": "code",
   "execution_count": 10,
   "id": "49817e78-d564-4289-bfeb-2d31e07f9456",
   "metadata": {},
   "outputs": [
    {
     "name": "stdout",
     "output_type": "stream",
     "text": [
      "Divisible by both 2 and 3\n"
     ]
    }
   ],
   "source": [
    "#10.Checking if a Number is Divisible by Both 2 and 3\n",
    "num = 12\n",
    "if num % 2 == 0 and num % 3 == 0:\n",
    "    print(\"Divisible by both 2 and 3\")\n",
    "else:\n",
    "    print(\"Not divisible by both 2 and 3\")"
   ]
  },
  {
   "cell_type": "raw",
   "id": "7070e48b-4787-4868-bb5f-0cec49f049da",
   "metadata": {},
   "source": [
    "#Explanation:\n",
    "#if: This keyword marks the beginning of the conditional statement.\n",
    "#condition: This is the expression that evaluates to either True or False. If the condition is true, the code block following the if statement will be executed. If the condition is false, the code block following the else statement will be executed.\n",
    "#:(colon): It's used to denote the end of the condition and the beginning of the code blocks that should be executed based on the condition.\n",
    "#Indentation: The code blocks following the if and else statements must be indented. In Python, indentation is used to denote code blocks, so it's crucial to maintain proper indentation for the code to be interpreted correctly.\n",
    "#Basic Syntax:\n",
    "if condition:\n",
    "    # code block to execute if condition is true\n",
    "else:\n",
    "    # code block to execute if condition is false"
   ]
  }
 ],
 "metadata": {
  "kernelspec": {
   "display_name": "Python 3 (ipykernel)",
   "language": "python",
   "name": "python3"
  },
  "language_info": {
   "codemirror_mode": {
    "name": "ipython",
    "version": 3
   },
   "file_extension": ".py",
   "mimetype": "text/x-python",
   "name": "python",
   "nbconvert_exporter": "python",
   "pygments_lexer": "ipython3",
   "version": "3.11.7"
  }
 },
 "nbformat": 4,
 "nbformat_minor": 5
}
