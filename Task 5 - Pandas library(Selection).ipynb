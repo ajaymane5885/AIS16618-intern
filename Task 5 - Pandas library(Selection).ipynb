{
 "cells": [
  {
   "cell_type": "markdown",
   "id": "5535e02a-760b-4300-bdd8-2c731fe3a43e",
   "metadata": {},
   "source": [
    "# Selection:"
   ]
  },
  {
   "cell_type": "code",
   "execution_count": 2,
   "id": "0bfc9882-3162-47cd-9987-f179f2459c76",
   "metadata": {},
   "outputs": [],
   "source": [
    "#DataFrame col,row selection:"
   ]
  },
  {
   "cell_type": "code",
   "execution_count": 3,
   "id": "061da61c-c7a9-4267-a4d9-dd295cf1bd14",
   "metadata": {},
   "outputs": [
    {
     "name": "stdout",
     "output_type": "stream",
     "text": [
      "Selected Columns using loc:\n",
      "   A   C\n",
      "0  1  11\n",
      "1  2  12\n",
      "2  3  13\n",
      "3  4  14\n",
      "4  5  15\n"
     ]
    }
   ],
   "source": [
    "#Column Selection Using loc\n",
    "import pandas as pd\n",
    "data = {'A': [1, 2, 3, 4, 5],\n",
    "        'B': [6, 7, 8, 9, 10],\n",
    "        'C': [11, 12, 13, 14, 15]}\n",
    "df = pd.DataFrame(data)\n",
    "selected_columns_loc = df.loc[:, ['A', 'C']]\n",
    "print(\"Selected Columns using loc:\")\n",
    "print(selected_columns_loc)"
   ]
  },
  {
   "cell_type": "code",
   "execution_count": 4,
   "id": "e3b90fb8-bca9-44ec-9f99-446575605d75",
   "metadata": {},
   "outputs": [
    {
     "name": "stdout",
     "output_type": "stream",
     "text": [
      "Selected Columns using iloc:\n",
      "   A   C\n",
      "0  1  11\n",
      "1  2  12\n",
      "2  3  13\n",
      "3  4  14\n",
      "4  5  15\n"
     ]
    }
   ],
   "source": [
    "#Column Selection Using iloc\n",
    "import pandas as pd\n",
    "data = {'A': [1, 2, 3, 4, 5],\n",
    "        'B': [6, 7, 8, 9, 10],\n",
    "        'C': [11, 12, 13, 14, 15]}\n",
    "df = pd.DataFrame(data)\n",
    "selected_columns_iloc = df.iloc[:, [0, 2]]  # Selecting first and third columns\n",
    "print(\"Selected Columns using iloc:\")\n",
    "print(selected_columns_iloc)"
   ]
  },
  {
   "cell_type": "code",
   "execution_count": 8,
   "id": "fcd2f60f-4dca-49cc-a5d5-ec711ba6fe3f",
   "metadata": {},
   "outputs": [
    {
     "name": "stdout",
     "output_type": "stream",
     "text": [
      "Selected Rows using loc:\n",
      "   A   B   C\n",
      "0  1   6  11\n",
      "2  3   8  13\n",
      "4  5  10  15\n"
     ]
    }
   ],
   "source": [
    "#Row Selection Using loc\n",
    "import pandas as pd\n",
    "data = {'A': [1, 2, 3, 4, 5],\n",
    "        'B': [6, 7, 8, 9, 10],\n",
    "        'C': [11, 12, 13, 14, 15]}\n",
    "df = pd.DataFrame(data)\n",
    "selected_rows_loc = df.loc[[0, 2, 4], :]\n",
    "print(\"Selected Rows using loc:\")\n",
    "print(selected_rows_loc)"
   ]
  },
  {
   "cell_type": "code",
   "execution_count": 6,
   "id": "c7290a84-ec89-4246-a10d-63d7140b3c5a",
   "metadata": {},
   "outputs": [
    {
     "name": "stdout",
     "output_type": "stream",
     "text": [
      "Selected Rows using iloc:\n",
      "   A   B   C\n",
      "0  1   6  11\n",
      "2  3   8  13\n",
      "4  5  10  15\n"
     ]
    }
   ],
   "source": [
    "#Row Selection Using iloc\n",
    "import pandas as pd\n",
    "data = {'A': [1, 2, 3, 4, 5],\n",
    "        'B': [6, 7, 8, 9, 10],\n",
    "        'C': [11, 12, 13, 14, 15]}\n",
    "df = pd.DataFrame(data)\n",
    "selected_rows_iloc = df.iloc[[0, 2, 4], :]\n",
    "print(\"Selected Rows using iloc:\")\n",
    "print(selected_rows_iloc)"
   ]
  },
  {
   "cell_type": "code",
   "execution_count": 9,
   "id": "bed90d3f-aa4a-4c97-b7bc-905e62e0cc21",
   "metadata": {},
   "outputs": [],
   "source": [
    "#conditional seletion:"
   ]
  },
  {
   "cell_type": "code",
   "execution_count": 10,
   "id": "b03f74ce-002d-4a9f-b6b8-e82ac2287869",
   "metadata": {},
   "outputs": [
    {
     "name": "stdout",
     "output_type": "stream",
     "text": [
      "Selected Rows where 'A' > 25:\n",
      "    A   B\n",
      "2  30  25\n",
      "3  40  35\n",
      "4  50  45\n"
     ]
    }
   ],
   "source": [
    "#Conditional Selection with Boolean Indexing\n",
    "import pandas as pd\n",
    "data = {'A': [10, 20, 30, 40, 50],\n",
    "        'B': [5, 15, 25, 35, 45]}\n",
    "df = pd.DataFrame(data)\n",
    "condition = df['A'] > 25\n",
    "selected_rows = df[condition]\n",
    "print(\"Selected Rows where 'A' > 25:\")\n",
    "print(selected_rows)"
   ]
  },
  {
   "cell_type": "code",
   "execution_count": 11,
   "id": "bcb492fa-ff68-474f-8f53-4e90f84ccfe6",
   "metadata": {},
   "outputs": [
    {
     "name": "stdout",
     "output_type": "stream",
     "text": [
      "Selected Rows where 'A' > 25:\n",
      "    A   B\n",
      "2  30  25\n",
      "3  40  35\n",
      "4  50  45\n"
     ]
    }
   ],
   "source": [
    "#Conditional Selection with query()\n",
    "import pandas as pd\n",
    "data = {'A': [10, 20, 30, 40, 50],\n",
    "        'B': [5, 15, 25, 35, 45]}\n",
    "df = pd.DataFrame(data)\n",
    "selected_rows = df.query('A > 25')\n",
    "print(\"Selected Rows where 'A' > 25:\")\n",
    "print(selected_rows)"
   ]
  },
  {
   "cell_type": "code",
   "execution_count": 12,
   "id": "24b6ca89-e50a-4735-b3f1-47cc6657c595",
   "metadata": {},
   "outputs": [],
   "source": [
    "#Column add,delete,update:"
   ]
  },
  {
   "cell_type": "code",
   "execution_count": 15,
   "id": "22779c81-9f4e-4502-b53a-d2a536446b40",
   "metadata": {},
   "outputs": [
    {
     "name": "stdout",
     "output_type": "stream",
     "text": [
      "DataFrame after adding column 'C':\n",
      "   A   B   C\n",
      "0  1   6  11\n",
      "1  2   7  12\n",
      "2  3   8  13\n",
      "3  4   9  14\n",
      "4  5  10  15\n",
      "\n",
      "DataFrame after deleting column 'B':\n",
      "   A   C\n",
      "0  1  11\n",
      "1  2  12\n",
      "2  3  13\n",
      "3  4  14\n",
      "4  5  15\n",
      "\n",
      "DataFrame after updating column 'A' by multiplying by 2:\n",
      "    A   C\n",
      "0   2  11\n",
      "1   4  12\n",
      "2   6  13\n",
      "3   8  14\n",
      "4  10  15\n"
     ]
    }
   ],
   "source": [
    "#Adding, Deleting, and Updating Columns\n",
    "import pandas as pd\n",
    "data = {'A': [1, 2, 3, 4, 5],\n",
    "        'B': [6, 7, 8, 9, 10]}\n",
    "df = pd.DataFrame(data)\n",
    "\n",
    "# Adding a new column\n",
    "df['C'] = [11, 12, 13, 14, 15]\n",
    "print(\"DataFrame after adding column 'C':\")\n",
    "print(df)\n",
    "\n",
    "# Deleting a column\n",
    "del df['B']\n",
    "print(\"\\nDataFrame after deleting column 'B':\")\n",
    "print(df)\n",
    "\n",
    "# Updating a column\n",
    "df['A'] = df['A'] * 2\n",
    "print(\"\\nDataFrame after updating column 'A' by multiplying by 2:\")\n",
    "print(df)"
   ]
  },
  {
   "cell_type": "code",
   "execution_count": 16,
   "id": "7cc40471-719f-4e50-b7cf-5f0da06c8a60",
   "metadata": {},
   "outputs": [],
   "source": [
    "#index,remove index:"
   ]
  },
  {
   "cell_type": "code",
   "execution_count": 17,
   "id": "89cbadc6-b1cc-4cbf-b9f3-22ece7e894fc",
   "metadata": {},
   "outputs": [
    {
     "name": "stdout",
     "output_type": "stream",
     "text": [
      "DataFrame with 'Name' as index:\n",
      "         Age\n",
      "Name        \n",
      "Alice     25\n",
      "Bob       30\n",
      "Charlie   35\n"
     ]
    }
   ],
   "source": [
    "#Setting Index\n",
    "import pandas as pd\n",
    "data = {'Name': ['Alice', 'Bob', 'Charlie'],\n",
    "        'Age': [25, 30, 35]}\n",
    "df = pd.DataFrame(data)\n",
    "df.set_index('Name', inplace=True)\n",
    "print(\"DataFrame with 'Name' as index:\")\n",
    "print(df)"
   ]
  },
  {
   "cell_type": "code",
   "execution_count": 18,
   "id": "f4e33d4e-c33a-446d-ade4-b2bebb131374",
   "metadata": {},
   "outputs": [
    {
     "name": "stdout",
     "output_type": "stream",
     "text": [
      "DataFrame after removing index:\n",
      "   Age\n",
      "0   25\n",
      "1   30\n",
      "2   35\n"
     ]
    }
   ],
   "source": [
    "#Removing Index\n",
    "import pandas as pd\n",
    "data = {'Name': ['Alice', 'Bob', 'Charlie'],\n",
    "        'Age': [25, 30, 35]}\n",
    "df = pd.DataFrame(data)\n",
    "df.set_index('Name', inplace=True)\n",
    "df.reset_index(drop=True, inplace=True)\n",
    "print(\"DataFrame after removing index:\")\n",
    "print(df)"
   ]
  },
  {
   "cell_type": "code",
   "execution_count": 19,
   "id": "5820d28d-42e8-42ef-a5d0-af49a5a0109e",
   "metadata": {},
   "outputs": [],
   "source": [
    "#Operation(+,-,*,|)between two columns:"
   ]
  },
  {
   "cell_type": "code",
   "execution_count": 22,
   "id": "1d30d420-2703-4c87-8180-b76a11d9619b",
   "metadata": {},
   "outputs": [
    {
     "name": "stdout",
     "output_type": "stream",
     "text": [
      "Result of addition between columns 'A' and 'B':\n",
      "0    15\n",
      "1    35\n",
      "2    55\n",
      "dtype: int64\n",
      "\n",
      "Result of subtraction between columns 'A' and 'B':\n",
      "0    5\n",
      "1    5\n",
      "2    5\n",
      "dtype: int64\n",
      "\n",
      "Result of multiplication between columns 'A' and 'B':\n",
      "0     50\n",
      "1    300\n",
      "2    750\n",
      "dtype: int64\n",
      "\n",
      "Result of bitwise OR between columns 'A' and 'B':\n",
      "0    15\n",
      "1    31\n",
      "2    31\n",
      "dtype: int64\n"
     ]
    }
   ],
   "source": [
    "import pandas as pd\n",
    "data = {'A': [10, 20, 30],\n",
    "        'B': [5, 15, 25]}\n",
    "df = pd.DataFrame(data)\n",
    "\n",
    "#Addition (+) between Two Columns\n",
    "result_addition = df['A'] + df['B']\n",
    "print(\"Result of addition between columns 'A' and 'B':\")\n",
    "print(result_addition)\n",
    "\n",
    "#Subtraction (-) between Two Columns\n",
    "result_subtraction = df['A'] - df['B']\n",
    "print(\"\\nResult of subtraction between columns 'A' and 'B':\")\n",
    "print(result_subtraction)\n",
    "\n",
    "#Multiplication (*) between Two Columns\n",
    "result_multiplication = df['A'] * df['B']\n",
    "print(\"\\nResult of multiplication between columns 'A' and 'B':\")\n",
    "print(result_multiplication)\n",
    "\n",
    "#Bitwise OR (|) between Two Columns\n",
    "result_or = df['A'] | df['B']\n",
    "print(\"\\nResult of bitwise OR between columns 'A' and 'B':\")\n",
    "print(result_or)"
   ]
  }
 ],
 "metadata": {
  "kernelspec": {
   "display_name": "Python 3 (ipykernel)",
   "language": "python",
   "name": "python3"
  },
  "language_info": {
   "codemirror_mode": {
    "name": "ipython",
    "version": 3
   },
   "file_extension": ".py",
   "mimetype": "text/x-python",
   "name": "python",
   "nbconvert_exporter": "python",
   "pygments_lexer": "ipython3",
   "version": "3.11.7"
  }
 },
 "nbformat": 4,
 "nbformat_minor": 5
}
