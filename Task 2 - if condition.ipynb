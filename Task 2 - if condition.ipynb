{
 "cells": [
  {
   "cell_type": "markdown",
   "id": "02921f5c-9f46-420c-9d78-4181e4a4a1eb",
   "metadata": {},
   "source": [
    "If conditions"
   ]
  },
  {
   "cell_type": "code",
   "execution_count": 14,
   "id": "f9cbc641-5c0d-4c0b-9dca-ffb0e21717e8",
   "metadata": {},
   "outputs": [
    {
     "name": "stdout",
     "output_type": "stream",
     "text": [
      "x is greater than 10\n"
     ]
    }
   ],
   "source": [
    "#1.Checking if a number is greater than 10\n",
    "x = 15\n",
    "if x > 10:\n",
    "    print(\"x is greater than 10\")"
   ]
  },
  {
   "cell_type": "code",
   "execution_count": 15,
   "id": "7d1c02e0-c435-4b7a-8c3c-87b291637e69",
   "metadata": {},
   "outputs": [
    {
     "name": "stdout",
     "output_type": "stream",
     "text": [
      "x is positive\n"
     ]
    }
   ],
   "source": [
    "#2.Checking if a number is positive\n",
    "x = 5\n",
    "if x > 0:\n",
    "    print(\"x is positive\")"
   ]
  },
  {
   "cell_type": "code",
   "execution_count": 3,
   "id": "7009413b-2536-4932-acba-7f386646974d",
   "metadata": {},
   "outputs": [
    {
     "name": "stdout",
     "output_type": "stream",
     "text": [
      "x is even\n"
     ]
    }
   ],
   "source": [
    "#3.Checking if a number is even\n",
    "x = 6\n",
    "if x % 2 == 0:\n",
    "    print(\"x is even\")"
   ]
  },
  {
   "cell_type": "code",
   "execution_count": 4,
   "id": "45b6c02f-54c3-4127-b916-e5326eca441d",
   "metadata": {},
   "outputs": [
    {
     "name": "stdout",
     "output_type": "stream",
     "text": [
      "String is not empty\n"
     ]
    }
   ],
   "source": [
    "#4.Checking if a string is not empty\n",
    "s = \"hello\"\n",
    "if s:\n",
    "    print(\"String is not empty\")"
   ]
  },
  {
   "cell_type": "code",
   "execution_count": 5,
   "id": "1d73660a-c2da-4cad-93e6-310b46a49df7",
   "metadata": {},
   "outputs": [
    {
     "name": "stdout",
     "output_type": "stream",
     "text": [
      "List is not empty\n"
     ]
    }
   ],
   "source": [
    "#5.Checking if a list is not empty\n",
    "my_list = [1, 2, 3]\n",
    "if my_list:\n",
    "    print(\"List is not empty\")"
   ]
  },
  {
   "cell_type": "code",
   "execution_count": 6,
   "id": "ef77d4ea-d11e-452c-964c-84c0202d285a",
   "metadata": {},
   "outputs": [
    {
     "name": "stdout",
     "output_type": "stream",
     "text": [
      "x is between 10 and 20\n"
     ]
    }
   ],
   "source": [
    "#6.Checking if a number is within a range\n",
    "x = 15\n",
    "if 10 < x < 20:\n",
    "    print(\"x is between 10 and 20\")"
   ]
  },
  {
   "cell_type": "code",
   "execution_count": 7,
   "id": "e54ce7fb-c1ce-4081-a085-0656cb604bc1",
   "metadata": {},
   "outputs": [
    {
     "name": "stdout",
     "output_type": "stream",
     "text": [
      "'a' key exists\n"
     ]
    }
   ],
   "source": [
    "#7.Checking if a key exists in a dictionary\n",
    "my_dict = {'a': 1, 'b': 2}\n",
    "if 'a' in my_dict:\n",
    "    print(\"'a' key exists\")"
   ]
  },
  {
   "cell_type": "code",
   "execution_count": 11,
   "id": "ac264201-4751-4cba-8bb6-0f0eee26d38e",
   "metadata": {},
   "outputs": [
    {
     "name": "stdout",
     "output_type": "stream",
     "text": [
      "x is None\n"
     ]
    }
   ],
   "source": [
    "#8.Checking if a variable is None\n",
    "x = None\n",
    "if x is None:\n",
    "    print(\"x is None\")"
   ]
  },
  {
   "cell_type": "code",
   "execution_count": 12,
   "id": "6e469fe1-5de2-43b7-9da6-62c4948aaeb0",
   "metadata": {},
   "outputs": [
    {
     "name": "stdout",
     "output_type": "stream",
     "text": [
      "List is empty\n"
     ]
    }
   ],
   "source": [
    "#9.Checking if a list is empty\n",
    "my_list = []\n",
    "if not my_list:\n",
    "    print(\"List is empty\")"
   ]
  },
  {
   "cell_type": "code",
   "execution_count": 13,
   "id": "ef9d254d-9be1-412d-aa9e-fcf25378f44f",
   "metadata": {},
   "outputs": [
    {
     "name": "stdout",
     "output_type": "stream",
     "text": [
      "x is less than or equal to 10\n"
     ]
    }
   ],
   "source": [
    "#10.Checking if a number is less than or equal to another number\n",
    "x = 5\n",
    "if x <= 10:\n",
    "    print(\"x is less than or equal to 10\")"
   ]
  },
  {
   "cell_type": "raw",
   "id": "3a174a18-9214-4c01-97d4-fa614016ffbb",
   "metadata": {},
   "source": [
    "#Explanation:\n",
    "#if: This keyword marks the beginning of the conditional statement.\n",
    "#condition: This is the expression that evaluates to either True or False. If the condition is true, the code block following the if statement will be executed. If the condition is false, the code block will be skipped.\n",
    "#:(colon): It's used to denote the end of the condition and the beginning of the code block that should be executed if the condition is true.\n",
    "#Indentation: The code block following the if statement must be indented. In Python, indentation is used to denote code blocks, so it's crucial to maintain proper indentation for the code to be interpreted correctly.\n",
    "#Basic Syntax:\n",
    "if condition:\n",
    "    # code block to execute if condition is true"
   ]
  }
 ],
 "metadata": {
  "kernelspec": {
   "display_name": "Python 3 (ipykernel)",
   "language": "python",
   "name": "python3"
  },
  "language_info": {
   "codemirror_mode": {
    "name": "ipython",
    "version": 3
   },
   "file_extension": ".py",
   "mimetype": "text/x-python",
   "name": "python",
   "nbconvert_exporter": "python",
   "pygments_lexer": "ipython3",
   "version": "3.11.7"
  }
 },
 "nbformat": 4,
 "nbformat_minor": 5
}
