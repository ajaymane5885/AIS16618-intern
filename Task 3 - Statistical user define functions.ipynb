{
 "cells": [
  {
   "cell_type": "markdown",
   "id": "8037ad90-c649-4a18-8b02-2f6380926e4e",
   "metadata": {},
   "source": [
    "Statistical user define functions"
   ]
  },
  {
   "cell_type": "code",
   "execution_count": 1,
   "id": "e8e988f1-8d43-4bef-b135-10436e937f0f",
   "metadata": {},
   "outputs": [
    {
     "data": {
      "text/plain": [
       "[1, 2, 3, 4, 5]"
      ]
     },
     "execution_count": 1,
     "metadata": {},
     "output_type": "execute_result"
    }
   ],
   "source": [
    "#Example:\n",
    "data = [1, 2, 3, 4, 5]\n",
    "data"
   ]
  },
  {
   "cell_type": "code",
   "execution_count": 2,
   "id": "8727522d-a321-4aac-845f-e6c906484a87",
   "metadata": {},
   "outputs": [
    {
     "name": "stdout",
     "output_type": "stream",
     "text": [
      "Mean: 3.0\n"
     ]
    }
   ],
   "source": [
    "#Mean:\n",
    "def mean(numbers):\n",
    "    return sum(numbers) / len(numbers)\n",
    "print(\"Mean:\", mean(data))"
   ]
  },
  {
   "cell_type": "code",
   "execution_count": 3,
   "id": "6e4c51d0-7485-4860-becf-8696c4f883e8",
   "metadata": {},
   "outputs": [
    {
     "name": "stdout",
     "output_type": "stream",
     "text": [
      "Variance: 2.0\n"
     ]
    }
   ],
   "source": [
    "#Variance:\n",
    "def variance(numbers):\n",
    "    mean_value = mean(numbers)\n",
    "    return sum((x - mean_value) ** 2 for x in numbers) / len(numbers)\n",
    "print(\"Variance:\", variance(data))"
   ]
  },
  {
   "cell_type": "code",
   "execution_count": 4,
   "id": "0359fec5-72ba-4e19-893b-724e0402a4f9",
   "metadata": {},
   "outputs": [
    {
     "name": "stdout",
     "output_type": "stream",
     "text": [
      "Standard Deviation: 1.4142135623730951\n"
     ]
    }
   ],
   "source": [
    "#Standard Deviation:\n",
    "import math\n",
    "def standard_deviation(numbers):\n",
    "    return math.sqrt(variance(numbers))\n",
    "print(\"Standard Deviation:\", standard_deviation(data))"
   ]
  },
  {
   "cell_type": "code",
   "execution_count": 5,
   "id": "bf87be04-b510-48dc-8d9b-1b458497516b",
   "metadata": {},
   "outputs": [
    {
     "name": "stdout",
     "output_type": "stream",
     "text": [
      "Median: 3\n"
     ]
    }
   ],
   "source": [
    "#Median:\n",
    "def median(numbers):\n",
    "    sorted_numbers = sorted(numbers)\n",
    "    n = len(sorted_numbers)\n",
    "    if n % 2 == 0:\n",
    "        return (sorted_numbers[n//2 - 1] + sorted_numbers[n//2]) / 2\n",
    "    else:\n",
    "        return sorted_numbers[n//2]\n",
    "print(\"Median:\", median(data))\n"
   ]
  },
  {
   "cell_type": "code",
   "execution_count": 6,
   "id": "1d63c0e5-f37c-47dd-9afa-c20c3de0f9cb",
   "metadata": {},
   "outputs": [
    {
     "name": "stdout",
     "output_type": "stream",
     "text": [
      "Range: 4\n"
     ]
    }
   ],
   "source": [
    "#Range:\n",
    "def data_range(numbers):\n",
    "    return max(numbers) - min(numbers)\n",
    "print(\"Range:\", data_range(data))"
   ]
  },
  {
   "cell_type": "code",
   "execution_count": 7,
   "id": "718f9254-9bc4-42c7-b3d3-bc20c509e573",
   "metadata": {},
   "outputs": [
    {
     "name": "stdout",
     "output_type": "stream",
     "text": [
      "Sum: 15\n"
     ]
    }
   ],
   "source": [
    "#Sum:\n",
    "def total(numbers):\n",
    "    return sum(numbers)\n",
    "print(\"Sum:\", total(data))"
   ]
  },
  {
   "cell_type": "code",
   "execution_count": 8,
   "id": "6f72ebd4-5934-4663-b82c-de7a29a7ed35",
   "metadata": {},
   "outputs": [
    {
     "name": "stdout",
     "output_type": "stream",
     "text": [
      "Count: 5\n"
     ]
    }
   ],
   "source": [
    "#Count:\n",
    "def count_elements(numbers):\n",
    "    return len(numbers)\n",
    "print(\"Count:\", count_elements(data))"
   ]
  },
  {
   "cell_type": "code",
   "execution_count": 9,
   "id": "059ca780-0b24-4920-af88-852623ab3205",
   "metadata": {},
   "outputs": [
    {
     "name": "stdout",
     "output_type": "stream",
     "text": [
      "Minimum: 1\n"
     ]
    }
   ],
   "source": [
    "#Minimum:\n",
    "def minimum(numbers):\n",
    "    return min(numbers)\n",
    "print(\"Minimum:\", minimum(data))"
   ]
  },
  {
   "cell_type": "code",
   "execution_count": 10,
   "id": "4ac5bb0a-fc73-4b9d-a53b-83af636dd8cb",
   "metadata": {},
   "outputs": [
    {
     "name": "stdout",
     "output_type": "stream",
     "text": [
      "Maximum: 5\n"
     ]
    }
   ],
   "source": [
    "#Maximum:\n",
    "def maximum(numbers):\n",
    "    return max(numbers)\n",
    "print(\"Maximum:\", maximum(data))"
   ]
  },
  {
   "cell_type": "code",
   "execution_count": 12,
   "id": "8b4e06b4-8cc6-4d52-81f0-6f3cba95fabf",
   "metadata": {},
   "outputs": [
    {
     "name": "stdout",
     "output_type": "stream",
     "text": [
      "Mode: [4]\n"
     ]
    }
   ],
   "source": [
    "#Mode:\n",
    "from collections import Counter\n",
    "def mode(numbers):\n",
    "    counts = Counter(numbers)\n",
    "    max_count = max(counts.values())\n",
    "    return [num for num, count in counts.items() if count == max_count]\n",
    "data = [1, 2, 2, 3, 3, 3, 4, 4, 4, 4, 5]\n",
    "print(\"Mode:\", mode(data))"
   ]
  }
 ],
 "metadata": {
  "kernelspec": {
   "display_name": "Python 3 (ipykernel)",
   "language": "python",
   "name": "python3"
  },
  "language_info": {
   "codemirror_mode": {
    "name": "ipython",
    "version": 3
   },
   "file_extension": ".py",
   "mimetype": "text/x-python",
   "name": "python",
   "nbconvert_exporter": "python",
   "pygments_lexer": "ipython3",
   "version": "3.11.7"
  }
 },
 "nbformat": 4,
 "nbformat_minor": 5
}
