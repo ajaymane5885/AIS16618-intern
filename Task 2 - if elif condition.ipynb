{
 "cells": [
  {
   "cell_type": "markdown",
   "id": "668471ba-9d80-4e7f-b8cf-deb0eb74ab0d",
   "metadata": {},
   "source": [
    "If elif conditions"
   ]
  },
  {
   "cell_type": "code",
   "execution_count": 1,
   "id": "64b445d9-4760-485e-9ff9-97f6922fc47d",
   "metadata": {},
   "outputs": [
    {
     "name": "stdout",
     "output_type": "stream",
     "text": [
      "x is equal to 10\n"
     ]
    }
   ],
   "source": [
    "#1.Basic if-elif-else\n",
    "x = 10\n",
    "if x > 10:\n",
    "    print(\"x is greater than 10\")\n",
    "elif x == 10:\n",
    "    print(\"x is equal to 10\")\n",
    "else:\n",
    "    print(\"x is less than 10\")"
   ]
  },
  {
   "cell_type": "code",
   "execution_count": 1,
   "id": "b57ff2a1-a2ad-46ec-b68e-6abbddc888be",
   "metadata": {},
   "outputs": [
    {
     "name": "stdout",
     "output_type": "stream",
     "text": [
      "Grade: B\n"
     ]
    }
   ],
   "source": [
    "#2.Checking Grade\n",
    "score = 85\n",
    "if score >= 90:\n",
    "    print(\"Grade: A\")\n",
    "elif score >= 80:\n",
    "    print(\"Grade: B\")\n",
    "elif score >= 70:\n",
    "    print(\"Grade: C\")\n",
    "else:\n",
    "    print(\"Grade: F\")"
   ]
  },
  {
   "cell_type": "code",
   "execution_count": 2,
   "id": "f28fa54b-df41-4192-baaf-735b40d8028b",
   "metadata": {},
   "outputs": [
    {
     "name": "stdout",
     "output_type": "stream",
     "text": [
      "Quadrant 4\n"
     ]
    }
   ],
   "source": [
    "#3.etermine Quadrant\n",
    "x, y = 5, -3\n",
    "if x > 0 and y > 0:\n",
    "    print(\"Quadrant 1\")\n",
    "elif x < 0 and y > 0:\n",
    "    print(\"Quadrant 2\")\n",
    "elif x < 0 and y < 0:\n",
    "    print(\"Quadrant 3\")\n",
    "elif x > 0 and y < 0:\n",
    "    print(\"Quadrant 4\")\n",
    "else:\n",
    "    print(\"Origin\")"
   ]
  },
  {
   "cell_type": "code",
   "execution_count": 3,
   "id": "416cbe3d-ed84-4f39-8320-559d303541b1",
   "metadata": {},
   "outputs": [
    {
     "name": "stdout",
     "output_type": "stream",
     "text": [
      "Adult\n"
     ]
    }
   ],
   "source": [
    "#4.Categorize Age Groups\n",
    "age = 35\n",
    "if age < 18:\n",
    "    print(\"Child\")\n",
    "elif age < 65:\n",
    "    print(\"Adult\")\n",
    "else:\n",
    "    print(\"Senior Citizen\")"
   ]
  },
  {
   "cell_type": "code",
   "execution_count": 4,
   "id": "a17b9fee-f142-4f7c-a279-15fef5249364",
   "metadata": {},
   "outputs": [
    {
     "name": "stdout",
     "output_type": "stream",
     "text": [
      "Afternoon\n"
     ]
    }
   ],
   "source": [
    "#5.Determine Time Period\n",
    "hour = 15\n",
    "if hour < 12:\n",
    "    print(\"Morning\")\n",
    "elif hour < 18:\n",
    "    print(\"Afternoon\")\n",
    "else:\n",
    "    print(\"Evening\")"
   ]
  },
  {
   "cell_type": "code",
   "execution_count": 5,
   "id": "c0850500-05f6-4206-b70e-724f0e04d6e9",
   "metadata": {},
   "outputs": [
    {
     "name": "stdout",
     "output_type": "stream",
     "text": [
      "Negative\n"
     ]
    }
   ],
   "source": [
    "#6.Check Sign of a Number\n",
    "num = -5\n",
    "if num > 0:\n",
    "    print(\"Positive\")\n",
    "elif num < 0:\n",
    "    print(\"Negative\")\n",
    "else:\n",
    "    print(\"Zero\")"
   ]
  },
  {
   "cell_type": "code",
   "execution_count": 6,
   "id": "a648c583-04f4-44a7-857e-1c20d189384d",
   "metadata": {},
   "outputs": [
    {
     "name": "stdout",
     "output_type": "stream",
     "text": [
      "Odd\n"
     ]
    }
   ],
   "source": [
    "#7.Check if Number is Even or Odd\n",
    "num = 7\n",
    "if num % 2 == 0:\n",
    "    print(\"Even\")\n",
    "else:\n",
    "    print(\"Odd\")"
   ]
  },
  {
   "cell_type": "code",
   "execution_count": 7,
   "id": "7a1e80fa-343b-4e26-8837-068f0b557f30",
   "metadata": {},
   "outputs": [
    {
     "name": "stdout",
     "output_type": "stream",
     "text": [
      "Valid Triangle\n"
     ]
    }
   ],
   "source": [
    "#8.Identify Valid Triangle\n",
    "a, b, c = 7, 5, 10\n",
    "if a + b > c and b + c > a and a + c > b:\n",
    "    print(\"Valid Triangle\")\n",
    "else:\n",
    "    print(\"Invalid Triangle\")"
   ]
  },
  {
   "cell_type": "code",
   "execution_count": 8,
   "id": "18044b2b-4fb8-487a-a3e7-0db26b8e971d",
   "metadata": {},
   "outputs": [
    {
     "name": "stdout",
     "output_type": "stream",
     "text": [
      "Scalene Triangle\n"
     ]
    }
   ],
   "source": [
    "#9.Identify Triangle Types\n",
    "a, b, c = 3, 4, 5\n",
    "if a == b == c:\n",
    "    print(\"Equilateral Triangle\")\n",
    "elif a == b or b == c or a == c:\n",
    "    print(\"Isosceles Triangle\")\n",
    "else:\n",
    "    print(\"Scalene Triangle\")"
   ]
  },
  {
   "cell_type": "code",
   "execution_count": 9,
   "id": "649f4ee7-d1b4-4d14-9b31-e8b5e31379eb",
   "metadata": {},
   "outputs": [
    {
     "name": "stdout",
     "output_type": "stream",
     "text": [
      "Discount Rate: 0\n"
     ]
    }
   ],
   "source": [
    "#10.Determine Discount Rate\n",
    "purchase_amount = 150\n",
    "if purchase_amount >= 1000:\n",
    "    discount = 0.1\n",
    "elif purchase_amount >= 500:\n",
    "    discount = 0.05\n",
    "else:\n",
    "    discount = 0\n",
    "print(\"Discount Rate:\", discount)"
   ]
  },
  {
   "cell_type": "raw",
   "id": "1d2f4eeb-b357-44e5-bbec-6d647ada7a2b",
   "metadata": {},
   "source": [
    "#Explanation:\n",
    "#if, elif, else: These are keywords that mark the beginning of the conditional statements.\n",
    "#condition1, condition2, condition3, etc.: These are expressions that evaluate to either True or False. Python evaluates these conditions in order, from top to bottom. If any condition is true, the corresponding code block will be executed, and the rest of the conditions will be skipped.\n",
    "#:(colon): It's used to denote the end of the condition and the beginning of the code block that should be executed if the condition is true.\n",
    "#Indentation: The code blocks following the if, elif, and else statements must be indented. In Python, indentation is used to denote code blocks, so it's crucial to maintain proper indentation for the code to be interpreted correctly.\n",
    "#Basic Syntax:\n",
    "if condition1:\n",
    "    # code block to execute if condition1 is true\n",
    "elif condition2:\n",
    "    # code block to execute if condition1 is false and condition2 is true\n",
    "elif condition3:\n",
    "    # code block to execute if condition1 and condition2 are false and condition3 is true\n",
    "...\n",
    "else:\n",
    "    # code block to execute if all conditions are false"
   ]
  }
 ],
 "metadata": {
  "kernelspec": {
   "display_name": "Python 3 (ipykernel)",
   "language": "python",
   "name": "python3"
  },
  "language_info": {
   "codemirror_mode": {
    "name": "ipython",
    "version": 3
   },
   "file_extension": ".py",
   "mimetype": "text/x-python",
   "name": "python",
   "nbconvert_exporter": "python",
   "pygments_lexer": "ipython3",
   "version": "3.11.7"
  }
 },
 "nbformat": 4,
 "nbformat_minor": 5
}
