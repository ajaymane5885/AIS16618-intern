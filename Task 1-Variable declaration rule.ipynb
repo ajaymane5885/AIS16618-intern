{
 "cells": [
  {
   "cell_type": "raw",
   "id": "cd056341-58db-422b-8b67-8411c5cda08c",
   "metadata": {},
   "source": [
    "Variable Declaration Rule\n",
    "1.variable name must be shart with letter or (__)underscore character \n",
    "2.A variable name cannot start with number \n",
    "3.only contain alphanumeric characters and underscore ex.(A_z,a-z,0-9,:\"-\") \n",
    "4.variable name are case sensitive"
   ]
  },
  {
   "cell_type": "code",
   "execution_count": 2,
   "id": "786f9afe-b10a-4f12-86b2-87b45a05f581",
   "metadata": {},
   "outputs": [
    {
     "name": "stdout",
     "output_type": "stream",
     "text": [
      "5\n",
      "John\n"
     ]
    }
   ],
   "source": [
    "#Python has no command for declaring a variable.\n",
    "#A variable is created the moment you first assign a value to it.\n",
    "x = 5\n",
    "y = \"John\"\n",
    "print(x)\n",
    "print(y)"
   ]
  },
  {
   "cell_type": "code",
   "execution_count": 3,
   "id": "362610db-f4d6-4ee4-9597-2c4ef6eddf35",
   "metadata": {},
   "outputs": [
    {
     "name": "stdout",
     "output_type": "stream",
     "text": [
      "Sally\n"
     ]
    }
   ],
   "source": [
    "x = 4       # x is of type int\n",
    "x = \"Sally\" # x is now of type str\n",
    "print(x)"
   ]
  },
  {
   "cell_type": "code",
   "execution_count": 5,
   "id": "497177f1-4739-4c20-bff0-d0d3c4b748ee",
   "metadata": {},
   "outputs": [
    {
     "name": "stdout",
     "output_type": "stream",
     "text": [
      "3\n",
      "3\n",
      "3.0\n"
     ]
    }
   ],
   "source": [
    "#If you want to specify the data type of a variable, this can be done with casting.\n",
    "x = str(3)    # x will be '3'\n",
    "y = int(3)    # y will be 3\n",
    "z = float(3)  # z will be 3.0\n",
    "print(x)\n",
    "print(y)\n",
    "print(z)"
   ]
  },
  {
   "cell_type": "code",
   "execution_count": 6,
   "id": "00a7359e-0e5a-4e96-a03d-78014e26b94a",
   "metadata": {},
   "outputs": [
    {
     "name": "stdout",
     "output_type": "stream",
     "text": [
      "<class 'int'>\n",
      "<class 'str'>\n"
     ]
    }
   ],
   "source": [
    "x = 5\n",
    "y = \"John\"\n",
    "print(type(x))\n",
    "print(type(y))"
   ]
  },
  {
   "cell_type": "code",
   "execution_count": 7,
   "id": "7860cc29-f6bd-482c-a616-c943f9526cf4",
   "metadata": {},
   "outputs": [
    {
     "name": "stdout",
     "output_type": "stream",
     "text": [
      "John\n",
      "John\n",
      "John\n",
      "John\n",
      "John\n",
      "John\n"
     ]
    }
   ],
   "source": [
    "#Legal variable names\n",
    "myvar = \"John\"\n",
    "my_var = \"John\"\n",
    "_my_var = \"John\"\n",
    "myVar = \"John\"\n",
    "MYVAR = \"John\"\n",
    "myvar2 = \"John\"\n",
    "print(myvar)\n",
    "print(my_var)\n",
    "print(_my_var)\n",
    "print(myVar)\n",
    "print(MYVAR)\n",
    "print(myvar2)"
   ]
  },
  {
   "cell_type": "code",
   "execution_count": 10,
   "id": "3526bf4e-be3e-4be1-8b83-2d24626cb47a",
   "metadata": {},
   "outputs": [],
   "source": [
    "#Each word is separated by an underscore character\n",
    "my_variable_name = \"John\""
   ]
  },
  {
   "cell_type": "code",
   "execution_count": 11,
   "id": "321d3e59-9468-42e3-be1b-96a62f574e2a",
   "metadata": {},
   "outputs": [],
   "source": [
    "#Each word, except the first, starts with a capital letter\n",
    "myVariableName = \"John\""
   ]
  },
  {
   "cell_type": "code",
   "execution_count": 12,
   "id": "45d6545d-6376-45c5-90b5-4a45d4a03b99",
   "metadata": {},
   "outputs": [],
   "source": [
    "#Each word starts with a capital letter\n",
    "MyVariableName = \"John\""
   ]
  },
  {
   "cell_type": "code",
   "execution_count": 13,
   "id": "170c0320-569c-4e9c-86d4-adc46a58eabe",
   "metadata": {},
   "outputs": [
    {
     "name": "stdout",
     "output_type": "stream",
     "text": [
      "Orange\n",
      "Banana\n",
      "Cherry\n"
     ]
    }
   ],
   "source": [
    "#Python allows you to assign values to multiple variables in one line\n",
    "x, y, z = \"Orange\", \"Banana\", \"Cherry\"\n",
    "print(x)\n",
    "print(y)\n",
    "print(z)"
   ]
  },
  {
   "cell_type": "code",
   "execution_count": 14,
   "id": "42de86c6-ea13-4438-8d5e-a59eec3a8bf9",
   "metadata": {},
   "outputs": [
    {
     "name": "stdout",
     "output_type": "stream",
     "text": [
      "apple\n",
      "banana\n",
      "cherry\n"
     ]
    }
   ],
   "source": [
    "#Unpack a list\n",
    "fruits = [\"apple\", \"banana\", \"cherry\"]\n",
    "x, y, z = fruits\n",
    "print(x)\n",
    "print(y)\n",
    "print(z)"
   ]
  },
  {
   "cell_type": "code",
   "execution_count": 15,
   "id": "d3b506d1-fee2-4b56-b1fd-31071b5ec413",
   "metadata": {},
   "outputs": [
    {
     "name": "stdout",
     "output_type": "stream",
     "text": [
      "Python is awesome\n"
     ]
    }
   ],
   "source": [
    "#he Python print() function is often used to output variables\n",
    "x = \"Python is awesome\"\n",
    "print(x)"
   ]
  },
  {
   "cell_type": "code",
   "execution_count": 16,
   "id": "49d06ddf-fe3d-4939-81be-7085ec35c48d",
   "metadata": {},
   "outputs": [
    {
     "name": "stdout",
     "output_type": "stream",
     "text": [
      "Python is awesome\n"
     ]
    }
   ],
   "source": [
    "#In the print() function, you output multiple variables, separated by a comma\n",
    "x = \"Python\"\n",
    "y = \"is\"\n",
    "z = \"awesome\"\n",
    "print(x, y, z)"
   ]
  },
  {
   "cell_type": "code",
   "execution_count": 17,
   "id": "49ad8c54-913f-4ac5-a3fc-f73c0b2f34ab",
   "metadata": {},
   "outputs": [
    {
     "name": "stdout",
     "output_type": "stream",
     "text": [
      "Python is awesome\n"
     ]
    }
   ],
   "source": [
    "#Create a variable outside of a function, and use it inside the function\n",
    "x = \"awesome\"\n",
    "def myfunc():\n",
    "  print(\"Python is \" + x)\n",
    "myfunc()"
   ]
  },
  {
   "cell_type": "code",
   "execution_count": 18,
   "id": "563b88f8-84cc-4da2-a5a3-0cb1c189ca72",
   "metadata": {},
   "outputs": [
    {
     "name": "stdout",
     "output_type": "stream",
     "text": [
      "Python is fantastic\n"
     ]
    }
   ],
   "source": [
    "#To change the value of a global variable inside a function, refer to the variable by using the global keyword\n",
    "x = \"awesome\"\n",
    "def myfunc():\n",
    "  global x\n",
    "  x = \"fantastic\"\n",
    "myfunc()\n",
    "print(\"Python is \" + x)"
   ]
  }
 ],
 "metadata": {
  "kernelspec": {
   "display_name": "Python 3 (ipykernel)",
   "language": "python",
   "name": "python3"
  },
  "language_info": {
   "codemirror_mode": {
    "name": "ipython",
    "version": 3
   },
   "file_extension": ".py",
   "mimetype": "text/x-python",
   "name": "python",
   "nbconvert_exporter": "python",
   "pygments_lexer": "ipython3",
   "version": "3.11.7"
  }
 },
 "nbformat": 4,
 "nbformat_minor": 5
}
