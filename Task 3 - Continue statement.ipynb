{
 "cells": [
  {
   "cell_type": "markdown",
   "id": "37278034-b67d-441e-a9fd-a2def287ea8b",
   "metadata": {},
   "source": [
    "Continue Statement"
   ]
  },
  {
   "cell_type": "code",
   "execution_count": 1,
   "id": "135a40d1-d90e-4614-82b3-38065b986db3",
   "metadata": {},
   "outputs": [
    {
     "name": "stdout",
     "output_type": "stream",
     "text": [
      "1\n",
      "3\n",
      "5\n",
      "7\n",
      "9\n"
     ]
    }
   ],
   "source": [
    "#1.Skipping Even Numbers\n",
    "for i in range(1, 11):\n",
    "    if i % 2 == 0:\n",
    "        continue\n",
    "    print(i)"
   ]
  },
  {
   "cell_type": "code",
   "execution_count": 2,
   "id": "79d58971-0c21-4b86-8dca-0f45b907ce9c",
   "metadata": {},
   "outputs": [
    {
     "name": "stdout",
     "output_type": "stream",
     "text": [
      "apple\n",
      "banana\n",
      "orange\n"
     ]
    }
   ],
   "source": [
    "#2.Skipping Processing Empty Strings in a List\n",
    "my_list = [\"apple\", \"\", \"banana\", \"\", \"orange\"]\n",
    "for fruit in my_list:\n",
    "    if fruit == \"\":\n",
    "        continue\n",
    "    print(fruit)"
   ]
  },
  {
   "cell_type": "code",
   "execution_count": 3,
   "id": "9d3489be-ce2d-4413-9e7e-db16cbe542b4",
   "metadata": {},
   "outputs": [
    {
     "name": "stdout",
     "output_type": "stream",
     "text": [
      "name: John\n",
      "city: New York\n"
     ]
    }
   ],
   "source": [
    "#3.Skipping Processing Null Values in a Dictionary\n",
    "my_dict = {\"name\": \"John\", \"age\": None, \"city\": \"New York\", \"country\": None}\n",
    "for key, value in my_dict.items():\n",
    "    if value is None:\n",
    "        continue\n",
    "    print(f\"{key}: {value}\")"
   ]
  }
 ],
 "metadata": {
  "kernelspec": {
   "display_name": "Python 3 (ipykernel)",
   "language": "python",
   "name": "python3"
  },
  "language_info": {
   "codemirror_mode": {
    "name": "ipython",
    "version": 3
   },
   "file_extension": ".py",
   "mimetype": "text/x-python",
   "name": "python",
   "nbconvert_exporter": "python",
   "pygments_lexer": "ipython3",
   "version": "3.11.7"
  }
 },
 "nbformat": 4,
 "nbformat_minor": 5
}
