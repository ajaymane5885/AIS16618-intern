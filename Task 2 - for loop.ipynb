{
 "cells": [
  {
   "cell_type": "markdown",
   "id": "6e47b6dd-3fef-41ad-beae-cace62a265e7",
   "metadata": {},
   "source": [
    "For loop"
   ]
  },
  {
   "cell_type": "code",
   "execution_count": 1,
   "id": "ca63361e-97db-4a0b-836e-dc1e21827cd9",
   "metadata": {},
   "outputs": [
    {
     "name": "stdout",
     "output_type": "stream",
     "text": [
      "apple\n",
      "banana\n",
      "cherry\n"
     ]
    }
   ],
   "source": [
    "#1.Iterating over a List\n",
    "fruits = [\"apple\", \"banana\", \"cherry\"]\n",
    "for fruit in fruits:\n",
    "    print(fruit)"
   ]
  },
  {
   "cell_type": "code",
   "execution_count": 2,
   "id": "5086b46e-b63b-4a35-82c8-87832524b3f0",
   "metadata": {},
   "outputs": [
    {
     "name": "stdout",
     "output_type": "stream",
     "text": [
      "0\n",
      "1\n",
      "2\n",
      "3\n",
      "4\n"
     ]
    }
   ],
   "source": [
    "#2.Iterating over a Range\n",
    "for i in range(5):\n",
    "    print(i)"
   ]
  },
  {
   "cell_type": "code",
   "execution_count": 3,
   "id": "1a4323d3-fab3-4c4e-ac7a-d57dafdd3a89",
   "metadata": {},
   "outputs": [
    {
     "name": "stdout",
     "output_type": "stream",
     "text": [
      "P\n",
      "y\n",
      "t\n",
      "h\n",
      "o\n",
      "n\n"
     ]
    }
   ],
   "source": [
    "#3.Iterating over a String\n",
    "for char in \"Python\":\n",
    "    print(char)"
   ]
  },
  {
   "cell_type": "code",
   "execution_count": 4,
   "id": "db3818b8-7277-487d-99ee-7ef6e88fc052",
   "metadata": {},
   "outputs": [
    {
     "name": "stdout",
     "output_type": "stream",
     "text": [
      "3\n",
      "4\n"
     ]
    }
   ],
   "source": [
    "#4.Iterating over a Tuple\n",
    "coordinates = (3, 4)\n",
    "for coord in coordinates:\n",
    "    print(coord)"
   ]
  },
  {
   "cell_type": "code",
   "execution_count": 5,
   "id": "827b1cbc-422f-4c1a-9dfe-884f9bc9efbc",
   "metadata": {},
   "outputs": [
    {
     "name": "stdout",
     "output_type": "stream",
     "text": [
      "name\n",
      "age\n",
      "city\n"
     ]
    }
   ],
   "source": [
    "#5.Iterating over a Dictionary (Keys)\n",
    "person = {\"name\": \"Alice\", \"age\": 30, \"city\": \"New York\"}\n",
    "for key in person:\n",
    "    print(key)"
   ]
  },
  {
   "cell_type": "code",
   "execution_count": 6,
   "id": "d60a0366-b12c-47fc-954e-b38014ceb76a",
   "metadata": {},
   "outputs": [
    {
     "name": "stdout",
     "output_type": "stream",
     "text": [
      "Alice\n",
      "30\n",
      "New York\n"
     ]
    }
   ],
   "source": [
    "#6.Iterating over a Dictionary (Values)\n",
    "person = {\"name\": \"Alice\", \"age\": 30, \"city\": \"New York\"}\n",
    "for value in person.values():\n",
    "    print(value)"
   ]
  },
  {
   "cell_type": "code",
   "execution_count": 7,
   "id": "5647d8de-9d18-4cd2-9c75-2c7c168d31e9",
   "metadata": {},
   "outputs": [
    {
     "name": "stdout",
     "output_type": "stream",
     "text": [
      "1\n",
      "2\n"
     ]
    }
   ],
   "source": [
    "#7.Using Break Statement\n",
    "numbers = [1, 2, 3, 4, 5]\n",
    "for num in numbers:\n",
    "    if num == 3:\n",
    "        break\n",
    "    print(num)"
   ]
  },
  {
   "cell_type": "code",
   "execution_count": 8,
   "id": "6fe0c5b3-aece-4673-8809-cbefa58ac7d9",
   "metadata": {},
   "outputs": [
    {
     "name": "stdout",
     "output_type": "stream",
     "text": [
      "0 0\n",
      "0 1\n",
      "1 0\n",
      "1 1\n",
      "2 0\n",
      "2 1\n"
     ]
    }
   ],
   "source": [
    "#8.Nested for Loops\n",
    "for i in range(3):\n",
    "    for j in range(2):\n",
    "        print(i, j)"
   ]
  },
  {
   "cell_type": "code",
   "execution_count": 9,
   "id": "4316a394-c3b8-4545-bdf1-0a6985c3b3be",
   "metadata": {},
   "outputs": [
    {
     "name": "stdout",
     "output_type": "stream",
     "text": [
      "Alice 30\n",
      "Bob 25\n",
      "Charlie 35\n"
     ]
    }
   ],
   "source": [
    "#9.Looping over Multiple Lists\n",
    "names = [\"Alice\", \"Bob\", \"Charlie\"]\n",
    "ages = [30, 25, 35]\n",
    "for name, age in zip(names, ages):\n",
    "    print(name, age)"
   ]
  },
  {
   "cell_type": "code",
   "execution_count": 11,
   "id": "88978d87-5ff6-495d-b757-ae7fdf33e66f",
   "metadata": {},
   "outputs": [
    {
     "name": "stdout",
     "output_type": "stream",
     "text": [
      "green\n",
      "blue\n",
      "red\n"
     ]
    }
   ],
   "source": [
    "#10.Iterating over a Set\n",
    "colors = {\"red\", \"green\", \"blue\"}\n",
    "for color in colors:\n",
    "    print(color)"
   ]
  },
  {
   "cell_type": "raw",
   "id": "09553d59-68d7-4888-aa97-1aae19702178",
   "metadata": {},
   "source": [
    "#Basic Syntax:\n",
    "for item in iterable:\n",
    "    # code block to execute for each item\n",
    "#Explanation:\n",
    "#for: This keyword marks the beginning of the loop.\n",
    "#item: This is a variable that will hold the current item in the iterable during each iteration.\n",
    "#in: This keyword is used to specify the iterable you want to loop over.\n",
    "#iterable: This is the sequence, collection, or any other object that supports iteration, such as a list, tuple, string, range, or dictionary.\n",
    "#:(colon): It's used to denote the end of the for statement and the beginning of the code block that should be executed for each item.\n",
    "#Indentation: The code block following the for statement must be indented. In Python, indentation is used to denote code blocks, so it's crucial to maintain proper indentation for the code to be interpreted correctly."
   ]
  }
 ],
 "metadata": {
  "kernelspec": {
   "display_name": "Python 3 (ipykernel)",
   "language": "python",
   "name": "python3"
  },
  "language_info": {
   "codemirror_mode": {
    "name": "ipython",
    "version": 3
   },
   "file_extension": ".py",
   "mimetype": "text/x-python",
   "name": "python",
   "nbconvert_exporter": "python",
   "pygments_lexer": "ipython3",
   "version": "3.11.7"
  }
 },
 "nbformat": 4,
 "nbformat_minor": 5
}
