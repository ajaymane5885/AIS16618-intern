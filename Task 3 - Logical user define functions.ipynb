{
 "cells": [
  {
   "cell_type": "markdown",
   "id": "a04112ec-2344-46a9-a1e3-d1d0073aa367",
   "metadata": {},
   "source": [
    "Logical user define functions"
   ]
  },
  {
   "cell_type": "code",
   "execution_count": 1,
   "id": "c7702e40-7be3-4d5c-93d0-11d5fd946647",
   "metadata": {},
   "outputs": [
    {
     "name": "stdout",
     "output_type": "stream",
     "text": [
      "10 is even: True\n"
     ]
    }
   ],
   "source": [
    "#Check if a Number is Even:\n",
    "def is_even(number):\n",
    "    return number % 2 == 0\n",
    "num = 10\n",
    "print(num, \"is even:\", is_even(num))"
   ]
  },
  {
   "cell_type": "code",
   "execution_count": 2,
   "id": "91c4c513-c789-46d9-8bb7-3e418a50df9c",
   "metadata": {},
   "outputs": [
    {
     "name": "stdout",
     "output_type": "stream",
     "text": [
      "7 is odd: True\n"
     ]
    }
   ],
   "source": [
    "#Check if a Number is Odd:\n",
    "def is_odd(number):\n",
    "    return number % 2 != 0\n",
    "num = 7\n",
    "print(num, \"is odd:\", is_odd(num))"
   ]
  },
  {
   "cell_type": "code",
   "execution_count": 3,
   "id": "d706339e-a628-44b1-8bab-9054559a5a3d",
   "metadata": {},
   "outputs": [
    {
     "name": "stdout",
     "output_type": "stream",
     "text": [
      "11 is prime: True\n"
     ]
    }
   ],
   "source": [
    "#Check if a Number is Prime:\n",
    "def is_prime(number):\n",
    "    if number <= 1:\n",
    "        return False\n",
    "    for i in range(2, int(number**0.5) + 1):\n",
    "        if number % i == 0:\n",
    "            return False\n",
    "    return True\n",
    "num = 11\n",
    "print(num, \"is prime:\", is_prime(num))"
   ]
  },
  {
   "cell_type": "code",
   "execution_count": 4,
   "id": "a8f89d50-a793-41bf-abb7-d2968f1e12c0",
   "metadata": {},
   "outputs": [
    {
     "name": "stdout",
     "output_type": "stream",
     "text": [
      "-5 is positive: False\n"
     ]
    }
   ],
   "source": [
    "#Check if a Number is Positive:\n",
    "def is_positive(number):\n",
    "    return number > 0\n",
    "num = -5\n",
    "print(num, \"is positive:\", is_positive(num))"
   ]
  },
  {
   "cell_type": "code",
   "execution_count": 5,
   "id": "add4463e-32d3-4066-8e0c-600be22efca2",
   "metadata": {},
   "outputs": [
    {
     "name": "stdout",
     "output_type": "stream",
     "text": [
      "-5 is negative: True\n"
     ]
    }
   ],
   "source": [
    "#Check if a Number is Negative:\n",
    "def is_negative(number):\n",
    "    return number < 0\n",
    "num = -5\n",
    "print(num, \"is negative:\", is_negative(num))"
   ]
  },
  {
   "cell_type": "code",
   "execution_count": 6,
   "id": "50d092c1-87a6-44dc-9e40-eae5c30867ae",
   "metadata": {},
   "outputs": [
    {
     "name": "stdout",
     "output_type": "stream",
     "text": [
      "2024 is a leap year: True\n"
     ]
    }
   ],
   "source": [
    "#Check if a Year is a Leap Year:\n",
    "def is_leap_year(year):\n",
    "    return (year % 4 == 0 and year % 100 != 0) or (year % 400 == 0)\n",
    "year = 2024\n",
    "print(year, \"is a leap year:\", is_leap_year(year))"
   ]
  },
  {
   "cell_type": "code",
   "execution_count": 7,
   "id": "00797e1d-2567-4e91-bcc5-ec1fb7fd376e",
   "metadata": {},
   "outputs": [
    {
     "name": "stdout",
     "output_type": "stream",
     "text": [
      "Student passed: True\n"
     ]
    }
   ],
   "source": [
    "#Check if a Student Passed or Failed:\n",
    "def is_passed(score):\n",
    "    return score >= 50\n",
    "score = 65\n",
    "print(\"Student passed:\", is_passed(score))"
   ]
  },
  {
   "cell_type": "code",
   "execution_count": 8,
   "id": "07312a7a-8bf6-468d-924c-634be40c5da8",
   "metadata": {},
   "outputs": [
    {
     "name": "stdout",
     "output_type": "stream",
     "text": [
      "Grade: C\n"
     ]
    }
   ],
   "source": [
    "#Check if a Student's Grade:\n",
    "def get_grade(score):\n",
    "    if score >= 90:\n",
    "        return 'A'\n",
    "    elif score >= 80:\n",
    "        return 'B'\n",
    "    elif score >= 70:\n",
    "        return 'C'\n",
    "    elif score >= 60:\n",
    "        return 'D'\n",
    "    else:\n",
    "        return 'F'\n",
    "score = 75\n",
    "print(\"Grade:\", get_grade(score))"
   ]
  },
  {
   "cell_type": "code",
   "execution_count": 9,
   "id": "1b133a33-b546-4067-b3f0-3c903b5be341",
   "metadata": {},
   "outputs": [
    {
     "name": "stdout",
     "output_type": "stream",
     "text": [
      "25 is a perfect square: True\n"
     ]
    }
   ],
   "source": [
    "#Check if a Number is a Perfect Square:\n",
    "def is_perfect_square(number):\n",
    "    return number == int(number**0.5) ** 2\n",
    "num = 25\n",
    "print(num, \"is a perfect square:\", is_perfect_square(num))"
   ]
  },
  {
   "cell_type": "code",
   "execution_count": 10,
   "id": "ed729d9a-306c-46ef-92f6-7c712b396119",
   "metadata": {},
   "outputs": [
    {
     "name": "stdout",
     "output_type": "stream",
     "text": [
      "2000 is a century year: True\n"
     ]
    }
   ],
   "source": [
    "#Check if a Year is a Century:\n",
    "def is_century(year):\n",
    "    return year % 100 == 0\n",
    "year = 2000\n",
    "print(year, \"is a century year:\", is_century(year))"
   ]
  }
 ],
 "metadata": {
  "kernelspec": {
   "display_name": "Python 3 (ipykernel)",
   "language": "python",
   "name": "python3"
  },
  "language_info": {
   "codemirror_mode": {
    "name": "ipython",
    "version": 3
   },
   "file_extension": ".py",
   "mimetype": "text/x-python",
   "name": "python",
   "nbconvert_exporter": "python",
   "pygments_lexer": "ipython3",
   "version": "3.11.7"
  }
 },
 "nbformat": 4,
 "nbformat_minor": 5
}
