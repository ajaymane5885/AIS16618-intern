{
 "cells": [
  {
   "cell_type": "markdown",
   "id": "9cff1a42-9092-44ec-9ae8-b97b5ce37c97",
   "metadata": {},
   "source": [
    "# Numpy Library\n",
    "## Numpy Basic"
   ]
  },
  {
   "cell_type": "raw",
   "id": "0bfe961f-682d-4fd7-a6dc-bbbdc91344af",
   "metadata": {},
   "source": [
    "#Introduction:\n",
    "NumPy is a Python library used for working with arrays.It also has functions for working in domain of linear algebra, fourier transform, and matrices.\n",
    "NumPy was created in 2005 by Travis Oliphant. It is an open source project and you can use it freely.NumPy stands for Numerical Python."
   ]
  },
  {
   "cell_type": "code",
   "execution_count": 2,
   "id": "8637abf4-b160-4fa5-9ae0-255bf3609a34",
   "metadata": {},
   "outputs": [],
   "source": [
    "#Getting Started:\n",
    "#Import NumPy\n",
    "import numpy"
   ]
  },
  {
   "cell_type": "code",
   "execution_count": 5,
   "id": "f625e2b8-40e8-47b9-b3e4-8c8e4ec0b0a4",
   "metadata": {},
   "outputs": [
    {
     "name": "stdout",
     "output_type": "stream",
     "text": [
      "[8 4 3 1 5 7]\n"
     ]
    }
   ],
   "source": [
    "#Ex.\n",
    "import numpy\n",
    "array = numpy.array([8,4,3,1,5,7])\n",
    "print(array)"
   ]
  },
  {
   "cell_type": "code",
   "execution_count": 4,
   "id": "d2247999-a49a-4d73-9380-36614894b1b0",
   "metadata": {},
   "outputs": [
    {
     "name": "stdout",
     "output_type": "stream",
     "text": [
      "[8 4 3 1 5 7]\n"
     ]
    }
   ],
   "source": [
    "#NumPy as np:\n",
    "import numpy as np\n",
    "array = np.array([8,4,3,1,5,7])\n",
    "print(array)"
   ]
  },
  {
   "cell_type": "code",
   "execution_count": 6,
   "id": "9e76728f-e4a1-4d19-ba6c-f646613d7142",
   "metadata": {},
   "outputs": [
    {
     "name": "stdout",
     "output_type": "stream",
     "text": [
      "<class 'numpy.ndarray'>\n"
     ]
    }
   ],
   "source": [
    "#Creating Arrays:\n",
    "#create a NumPy ndarray object by using the array() function\n",
    "import numpy as np\n",
    "array = np.array([8,4,3,1,5,7])\n",
    "print(type(array))"
   ]
  },
  {
   "cell_type": "code",
   "execution_count": 8,
   "id": "65d2ebca-dfc8-4063-83c5-6754a90ae41a",
   "metadata": {},
   "outputs": [
    {
     "name": "stdout",
     "output_type": "stream",
     "text": [
      "25\n"
     ]
    }
   ],
   "source": [
    "#Dimensions in Arrays:\n",
    "#Create a 0-D array \n",
    "import numpy as np\n",
    "array = np.array(25)\n",
    "print(array)"
   ]
  },
  {
   "cell_type": "code",
   "execution_count": 9,
   "id": "84628559-f101-4f42-a357-fd828a1439fc",
   "metadata": {},
   "outputs": [
    {
     "name": "stdout",
     "output_type": "stream",
     "text": [
      "[8 4 3 1 5 7]\n"
     ]
    }
   ],
   "source": [
    "#Create a 1-D array \n",
    "import numpy as np\n",
    "array = np.array([8,4,3,1,5,7])\n",
    "print(array)"
   ]
  },
  {
   "cell_type": "code",
   "execution_count": 10,
   "id": "ba3b9fdd-66a5-4843-bad1-f4a6aade5f6d",
   "metadata": {},
   "outputs": [
    {
     "name": "stdout",
     "output_type": "stream",
     "text": [
      "[[1 2 3]\n",
      " [4 5 6]]\n"
     ]
    }
   ],
   "source": [
    "#Create a 2-D array\n",
    "import numpy as np\n",
    "array = np.array([[1, 2, 3], [4, 5, 6]])\n",
    "print(array)"
   ]
  },
  {
   "cell_type": "code",
   "execution_count": 11,
   "id": "97e17425-4911-40d7-a4db-14d74ec46c6e",
   "metadata": {},
   "outputs": [
    {
     "name": "stdout",
     "output_type": "stream",
     "text": [
      "[[[1 2 3]\n",
      "  [4 5 6]]\n",
      "\n",
      " [[1 2 3]\n",
      "  [4 5 6]]]\n"
     ]
    }
   ],
   "source": [
    "#Create a 3-D array \n",
    "import numpy as np\n",
    "array = np.array([[[1, 2, 3], [4, 5, 6]], [[1, 2, 3], [4, 5, 6]]])\n",
    "print(array)"
   ]
  },
  {
   "cell_type": "code",
   "execution_count": 12,
   "id": "44422c0e-19f6-41fb-93e8-059275cbc9db",
   "metadata": {},
   "outputs": [
    {
     "name": "stdout",
     "output_type": "stream",
     "text": [
      "8\n"
     ]
    }
   ],
   "source": [
    "#Array Indexing or Access Array Elements:\n",
    "#Get the first element from the array\n",
    "import numpy as np\n",
    "array = np.array([8,4,3,1,5,7])\n",
    "print(array[0])"
   ]
  },
  {
   "cell_type": "code",
   "execution_count": 13,
   "id": "d91fa355-499f-4cfa-bd68-277fbb9edf5b",
   "metadata": {},
   "outputs": [
    {
     "name": "stdout",
     "output_type": "stream",
     "text": [
      "4\n"
     ]
    }
   ],
   "source": [
    "#Get third and fourth elements from the array \n",
    "import numpy as np\n",
    "array = np.array([8,4,3,1,5,7])\n",
    "print(array[2] + array[3])"
   ]
  },
  {
   "cell_type": "code",
   "execution_count": 14,
   "id": "d827073a-8c71-4695-837b-02a254d63f6a",
   "metadata": {},
   "outputs": [
    {
     "name": "stdout",
     "output_type": "stream",
     "text": [
      "2nd element on 1st row:  2\n"
     ]
    }
   ],
   "source": [
    "#Access the element on the first row, second column\n",
    "import numpy as np\n",
    "array = np.array([[1,2,3,4,5], [6,7,8,9,10]])\n",
    "print('2nd element on 1st row: ', array[0, 1])"
   ]
  },
  {
   "cell_type": "code",
   "execution_count": 15,
   "id": "2a83683d-8a4c-4ec4-a223-3567dd5d2d56",
   "metadata": {},
   "outputs": [
    {
     "name": "stdout",
     "output_type": "stream",
     "text": [
      "7\n"
     ]
    }
   ],
   "source": [
    "#Access the third element of the second array of the first array\n",
    "import numpy as np\n",
    "array = np.array([[[4, 2, 3], [4, 5, 7]], [[7, 8, 9], [10, 11, 12]]])\n",
    "print(array[0, 1, 2])"
   ]
  },
  {
   "cell_type": "code",
   "execution_count": 16,
   "id": "acb8256d-1854-4599-975e-db64f1f7e99e",
   "metadata": {},
   "outputs": [
    {
     "name": "stdout",
     "output_type": "stream",
     "text": [
      "Last element from 2nd dim:  5\n"
     ]
    }
   ],
   "source": [
    "#Print the last element from the 2nd dim\n",
    "import numpy as np\n",
    "array = np.array([[7,2,3,4,5], [6,7,8,9,5]])\n",
    "print('Last element from 2nd dim: ', array[1, -1])"
   ]
  },
  {
   "cell_type": "code",
   "execution_count": 17,
   "id": "975bb7dc-6caf-4624-9829-b3ea8d253863",
   "metadata": {},
   "outputs": [
    {
     "name": "stdout",
     "output_type": "stream",
     "text": [
      "[5 3 7 5]\n"
     ]
    }
   ],
   "source": [
    "#Array Slicing:\n",
    "#Slice elements from index 1 to index 5 from the array\n",
    "import numpy as np\n",
    "array = np.array([8, 5, 3, 7, 5, 2, 4])\n",
    "print(array[1:5])"
   ]
  },
  {
   "cell_type": "code",
   "execution_count": 18,
   "id": "5c4f0aa6-bcef-4184-81b4-58a7fa412356",
   "metadata": {},
   "outputs": [
    {
     "name": "stdout",
     "output_type": "stream",
     "text": [
      "[5 3 7 5]\n"
     ]
    }
   ],
   "source": [
    "#Slice from the index 3 from the end to index 1 from the end\n",
    "import numpy as np\n",
    "array = np.array([8, 5, 3, 7, 5, 2, 4])\n",
    "print(array[-6:-2])"
   ]
  },
  {
   "cell_type": "code",
   "execution_count": 22,
   "id": "093bc8fa-ad34-46c2-945f-162e728ba3e7",
   "metadata": {},
   "outputs": [
    {
     "name": "stdout",
     "output_type": "stream",
     "text": [
      "[3 7 5]\n"
     ]
    }
   ],
   "source": [
    "#Return every other element from index 1 to index 5:\n",
    "import numpy as np\n",
    "array = np.array([8, 5, 3, 7, 5, 2, 4])\n",
    "print(array[2:5:1])"
   ]
  },
  {
   "cell_type": "code",
   "execution_count": 23,
   "id": "eb6b4d9c-6602-4e9a-be45-69352259dbfe",
   "metadata": {},
   "outputs": [
    {
     "name": "stdout",
     "output_type": "stream",
     "text": [
      "[[ 8  4 10]\n",
      " [ 6  9  1]]\n"
     ]
    }
   ],
   "source": [
    "#From both elements, slice index 1 to index 4 (not included), this will return a 2-D array:\n",
    "import numpy as np\n",
    "array = np.array([[7, 2, 8, 4, 10], [3, 7, 6, 9, 1]])\n",
    "print(array[0:3, 2:5])"
   ]
  },
  {
   "cell_type": "code",
   "execution_count": 24,
   "id": "f4dae7f3-5bda-4bf9-b731-69a34fda1cdc",
   "metadata": {},
   "outputs": [
    {
     "name": "stdout",
     "output_type": "stream",
     "text": [
      "int32\n"
     ]
    }
   ],
   "source": [
    "#Data Types:\n",
    "#Checking the Data Type of an Array\n",
    "import numpy as np\n",
    "array = np.array([1, 2, 3, 4])\n",
    "print(array.dtype)"
   ]
  },
  {
   "cell_type": "code",
   "execution_count": 25,
   "id": "988c91db-6ef2-4cb6-a10d-93c09cfd9ad1",
   "metadata": {},
   "outputs": [
    {
     "name": "stdout",
     "output_type": "stream",
     "text": [
      "<U6\n"
     ]
    }
   ],
   "source": [
    "import numpy as np\n",
    "array = np.array(['mango', 'banana', 'orange'])\n",
    "print(array.dtype)"
   ]
  },
  {
   "cell_type": "code",
   "execution_count": 29,
   "id": "fd089ccc-9212-4291-a956-44c4015ca072",
   "metadata": {},
   "outputs": [
    {
     "name": "stdout",
     "output_type": "stream",
     "text": [
      "[b'1' b'2' b'3' b'4']\n",
      "|S1\n"
     ]
    }
   ],
   "source": [
    "#Creating Arrays With a Defined Data Type\n",
    "import numpy as np\n",
    "array = np.array([1, 2, 3, 4], dtype='S')\n",
    "print(array)\n",
    "print(array.dtype)"
   ]
  },
  {
   "cell_type": "code",
   "execution_count": 30,
   "id": "b72f71f6-71e4-4294-8b92-540c7cc1d944",
   "metadata": {},
   "outputs": [
    {
     "name": "stdout",
     "output_type": "stream",
     "text": [
      "[ True False  True]\n",
      "bool\n"
     ]
    }
   ],
   "source": [
    "#Change data type from integer to boolean:\n",
    "import numpy as np\n",
    "array = np.array([1, 0, 3])\n",
    "newarray = array.astype(bool)\n",
    "print(newarray)\n",
    "print(newarray.dtype)"
   ]
  },
  {
   "cell_type": "code",
   "execution_count": 31,
   "id": "74ff50f3-3b61-415b-bb2f-e571038aa46e",
   "metadata": {},
   "outputs": [
    {
     "name": "stdout",
     "output_type": "stream",
     "text": [
      "[ 5 25  8  4  6]\n",
      "[5 2 8 4 6]\n"
     ]
    }
   ],
   "source": [
    "#Array Copy vs View:\n",
    "#Make a copy, change the original array, and display both arrays:\n",
    "import numpy as np\n",
    "array = np.array([5, 2, 8, 4, 6])\n",
    "x = array.copy()\n",
    "array[1] = 25\n",
    "print(array)\n",
    "print(x)"
   ]
  },
  {
   "cell_type": "code",
   "execution_count": 32,
   "id": "3f53fe06-775d-4446-b0f4-f7bc5ce10225",
   "metadata": {},
   "outputs": [
    {
     "name": "stdout",
     "output_type": "stream",
     "text": [
      "[ 5  2  8 18  6]\n",
      "[ 5  2  8 18  6]\n"
     ]
    }
   ],
   "source": [
    "#Make a view, change the original array, and display both arrays:\n",
    "import numpy as np\n",
    "array = np.array([5, 2, 8, 4, 6])\n",
    "x = array.view()\n",
    "array[3] = 18\n",
    "print(array)\n",
    "print(x)"
   ]
  },
  {
   "cell_type": "code",
   "execution_count": 33,
   "id": "5cb36ca1-db40-4b22-aa03-ba14bef97c56",
   "metadata": {},
   "outputs": [
    {
     "name": "stdout",
     "output_type": "stream",
     "text": [
      "None\n",
      "[5 2 8 4 6]\n"
     ]
    }
   ],
   "source": [
    "#Print the value of the base attribute to check if an array owns it's data or not:\n",
    "import numpy as np\n",
    "array = np.array([5, 2, 8, 4, 6])\n",
    "a = array.copy()\n",
    "b = array.view()\n",
    "print(a.base)\n",
    "print(b.base)"
   ]
  },
  {
   "cell_type": "code",
   "execution_count": 34,
   "id": "40149056-e685-444b-8ffd-1186869e7188",
   "metadata": {},
   "outputs": [
    {
     "name": "stdout",
     "output_type": "stream",
     "text": [
      "(2, 5)\n"
     ]
    }
   ],
   "source": [
    "#Array Shape:\n",
    "#Print the shape of a 2-D array\n",
    "import numpy as np\n",
    "array = np.array([[1, 2, 3, 4,5], [5, 6, 7, 8,9]])\n",
    "print(array.shape)"
   ]
  },
  {
   "cell_type": "code",
   "execution_count": 38,
   "id": "3302b871-88c9-450f-b4cf-44c2ce947c91",
   "metadata": {},
   "outputs": [
    {
     "name": "stdout",
     "output_type": "stream",
     "text": [
      "[[[[[5 6 7 8 9]]]]]\n",
      "shape of array : (1, 1, 1, 1, 5)\n"
     ]
    }
   ],
   "source": [
    "#Create an array with 5 dimensions using ndmin \n",
    "import numpy as np\n",
    "array = np.array([5, 6, 7, 8,9], ndmin=5)\n",
    "print(array)\n",
    "print('shape of array :', array.shape)"
   ]
  },
  {
   "cell_type": "code",
   "execution_count": 40,
   "id": "47c78582-78a8-4d33-8778-beb2ab0896b3",
   "metadata": {},
   "outputs": [
    {
     "name": "stdout",
     "output_type": "stream",
     "text": [
      "[[ 1  2  3  4]\n",
      " [ 5  6  7  8]\n",
      " [ 9 10 11 12]]\n"
     ]
    }
   ],
   "source": [
    "#Array Reshaping:\n",
    "#Reshape From 1-D to 2-D\n",
    "import numpy as np\n",
    "arr = np.array([1, 2, 3, 4, 5, 6, 7, 8, 9, 10, 11, 12])\n",
    "newarr = arr.reshape(3, 4)\n",
    "print(newarr)"
   ]
  },
  {
   "cell_type": "code",
   "execution_count": 43,
   "id": "472d91b3-cb7d-4a93-bfbe-e58b48d39e94",
   "metadata": {},
   "outputs": [
    {
     "name": "stdout",
     "output_type": "stream",
     "text": [
      "[1 2 3 4 5 6 7 8]\n"
     ]
    }
   ],
   "source": [
    "#Check if the returned array is a copy or a view\n",
    "import numpy as np\n",
    "arr = np.array([1, 2, 3, 4, 5, 6, 7, 8])\n",
    "print(arr.reshape(2, 4).base)"
   ]
  },
  {
   "cell_type": "code",
   "execution_count": 44,
   "id": "0bf59621-1ee6-4d4e-839e-685ee583a192",
   "metadata": {},
   "outputs": [
    {
     "name": "stdout",
     "output_type": "stream",
     "text": [
      "[1 2 3 4 5 6]\n"
     ]
    }
   ],
   "source": [
    "#converting a multidimensional array into a 1D array\n",
    "import numpy as np\n",
    "arr = np.array([[1, 2, 3], [4, 5, 6]])\n",
    "newarr = arr.reshape(-2)\n",
    "print(newarr)"
   ]
  },
  {
   "cell_type": "code",
   "execution_count": 46,
   "id": "eae9df6f-c43e-4c73-ad88-be82d5c23306",
   "metadata": {},
   "outputs": [
    {
     "name": "stdout",
     "output_type": "stream",
     "text": [
      "4\n",
      "2\n",
      "3\n"
     ]
    }
   ],
   "source": [
    "#Array Iterating:\n",
    "#Iterate on the elements of the following 1-D array\n",
    "import numpy as np\n",
    "arr = np.array([4, 2, 3])\n",
    "for x in arr:\n",
    "    print(x)"
   ]
  },
  {
   "cell_type": "code",
   "execution_count": 47,
   "id": "0aa745c5-d4b5-4b25-86ff-7948c7f9967d",
   "metadata": {},
   "outputs": [
    {
     "name": "stdout",
     "output_type": "stream",
     "text": [
      "1\n",
      "2\n",
      "3\n",
      "4\n",
      "5\n",
      "6\n",
      "7\n",
      "8\n"
     ]
    }
   ],
   "source": [
    "#Iterating Arrays Using nditer()\n",
    "import numpy as np\n",
    "arr = np.array([[[1, 2], [3, 4]], [[5, 6], [7, 8]]])\n",
    "for x in np.nditer(arr):\n",
    "  print(x)"
   ]
  },
  {
   "cell_type": "code",
   "execution_count": 49,
   "id": "b32960e7-7ec2-410f-bd01-c848e6f1b695",
   "metadata": {},
   "outputs": [
    {
     "name": "stdout",
     "output_type": "stream",
     "text": [
      "b'5'\n",
      "b'4'\n",
      "b'3'\n"
     ]
    }
   ],
   "source": [
    "#Iterate through the array as a string\n",
    "import numpy as np\n",
    "arr = np.array([5, 4, 3])\n",
    "for x in np.nditer(arr, flags=['buffered'], op_dtypes=['S']):\n",
    "  print(x)"
   ]
  },
  {
   "cell_type": "code",
   "execution_count": 50,
   "id": "122101c2-ba5f-42d7-817e-e3e3b521cda4",
   "metadata": {},
   "outputs": [
    {
     "name": "stdout",
     "output_type": "stream",
     "text": [
      "1\n",
      "3\n",
      "5\n",
      "7\n"
     ]
    }
   ],
   "source": [
    "#Iterating With Different Step Size(Iterate through every scalar element of the 2D array skipping 1 element)\n",
    "import numpy as np\n",
    "arr = np.array([[1, 2, 3, 4], [5, 6, 7, 8]])\n",
    "for x in np.nditer(arr[:, ::2]):\n",
    "  print(x)"
   ]
  },
  {
   "cell_type": "code",
   "execution_count": 51,
   "id": "45642a7a-b2c6-4f8b-bf5d-a72046a7cd19",
   "metadata": {},
   "outputs": [
    {
     "name": "stdout",
     "output_type": "stream",
     "text": [
      "(0, 0) 1\n",
      "(0, 1) 2\n",
      "(0, 2) 3\n",
      "(0, 3) 4\n",
      "(1, 0) 5\n",
      "(1, 1) 6\n",
      "(1, 2) 7\n",
      "(1, 3) 8\n"
     ]
    }
   ],
   "source": [
    "#Enumerated Iteration Using ndenumerate() on following 2D array's elements\n",
    "import numpy as np\n",
    "arr = np.array([[1, 2, 3, 4], [5, 6, 7, 8]])\n",
    "for idx, x in np.ndenumerate(arr):\n",
    "  print(idx, x)"
   ]
  },
  {
   "cell_type": "code",
   "execution_count": 52,
   "id": "4a2f37b5-e440-429e-a289-39fa4079068a",
   "metadata": {},
   "outputs": [
    {
     "name": "stdout",
     "output_type": "stream",
     "text": [
      "[9 8 7 4 5 6]\n"
     ]
    }
   ],
   "source": [
    "#Joining Array:\n",
    "#Join two arrays\n",
    "import numpy as np\n",
    "arr1 = np.array([9, 8, 7])\n",
    "arr2 = np.array([4, 5, 6])\n",
    "arr = np.concatenate((arr1, arr2))\n",
    "print(arr)"
   ]
  },
  {
   "cell_type": "code",
   "execution_count": 55,
   "id": "ef75ddd3-187b-419c-b869-b0a5ada61f1d",
   "metadata": {},
   "outputs": [
    {
     "name": "stdout",
     "output_type": "stream",
     "text": [
      "[[9 4]\n",
      " [8 5]\n",
      " [7 6]]\n"
     ]
    }
   ],
   "source": [
    "#Joining Arrays Using Stack Functions\n",
    "import numpy as np\n",
    "arr1 = np.array([9, 8, 7])\n",
    "arr2 = np.array([4, 5, 6])\n",
    "arr = np.stack((arr1, arr2),axis=1)\n",
    "print(arr)"
   ]
  },
  {
   "cell_type": "code",
   "execution_count": 56,
   "id": "82a4fb23-0052-4d6c-a1e4-2f62fe8e8307",
   "metadata": {},
   "outputs": [
    {
     "name": "stdout",
     "output_type": "stream",
     "text": [
      "[9 8 7 4 5 6]\n"
     ]
    }
   ],
   "source": [
    "#Stacking Along Rows\n",
    "import numpy as np\n",
    "arr1 = np.array([9, 8, 7])\n",
    "arr2 = np.array([4, 5, 6])\n",
    "arr = np.hstack((arr1, arr2))\n",
    "print(arr)"
   ]
  },
  {
   "cell_type": "code",
   "execution_count": 57,
   "id": "6aa61dab-ed5c-4c54-ba45-3631a9670935",
   "metadata": {},
   "outputs": [
    {
     "name": "stdout",
     "output_type": "stream",
     "text": [
      "[[9 8 7]\n",
      " [4 5 6]]\n"
     ]
    }
   ],
   "source": [
    "#Stacking Along Columns\n",
    "import numpy as np\n",
    "arr1 = np.array([9, 8, 7])\n",
    "arr2 = np.array([4, 5, 6])\n",
    "arr = np.vstack((arr1, arr2))\n",
    "print(arr)"
   ]
  },
  {
   "cell_type": "code",
   "execution_count": 58,
   "id": "45a941fe-ad8b-42ea-a14c-69b772d9e53e",
   "metadata": {},
   "outputs": [
    {
     "name": "stdout",
     "output_type": "stream",
     "text": [
      "[[[1 4]\n",
      "  [2 5]\n",
      "  [3 6]]]\n"
     ]
    }
   ],
   "source": [
    "#Stacking Along Height (depth)\n",
    "import numpy as np\n",
    "arr1 = np.array([1, 2, 3])\n",
    "arr2 = np.array([4, 5, 6])\n",
    "arr = np.dstack((arr1, arr2))\n",
    "print(arr)"
   ]
  },
  {
   "cell_type": "code",
   "execution_count": 60,
   "id": "e21e5f35-eb22-48ca-b0a4-3b0317b1c332",
   "metadata": {},
   "outputs": [
    {
     "name": "stdout",
     "output_type": "stream",
     "text": [
      "[array([1, 2, 3]), array([4, 5, 6])]\n"
     ]
    }
   ],
   "source": [
    "#Splitting Array:\n",
    "#Split the array in 2\n",
    "import numpy as np\n",
    "arr = np.array([1, 2, 3, 4, 5, 6])\n",
    "newarr = np.array_split(arr, 2)\n",
    "print(newarr)"
   ]
  },
  {
   "cell_type": "code",
   "execution_count": 63,
   "id": "a7d68132-f741-4264-9807-7c4c045c0bd1",
   "metadata": {},
   "outputs": [
    {
     "name": "stdout",
     "output_type": "stream",
     "text": [
      "[1 2 3]\n",
      "[4 5 6]\n"
     ]
    }
   ],
   "source": [
    "#Access the splitted arrays\n",
    "import numpy as np\n",
    "arr = np.array([1, 2, 3, 4, 5, 6])\n",
    "newarr = np.array_split(arr, 2)\n",
    "print(newarr[0])\n",
    "print(newarr[1])"
   ]
  },
  {
   "cell_type": "code",
   "execution_count": 64,
   "id": "e1ccb867-47c0-4bb1-bb9e-88ce1eedd323",
   "metadata": {},
   "outputs": [
    {
     "name": "stdout",
     "output_type": "stream",
     "text": [
      "[array([[ 1],\n",
      "       [ 4],\n",
      "       [ 7],\n",
      "       [10],\n",
      "       [13],\n",
      "       [16]]), array([[ 2],\n",
      "       [ 5],\n",
      "       [ 8],\n",
      "       [11],\n",
      "       [14],\n",
      "       [17]]), array([[ 3],\n",
      "       [ 6],\n",
      "       [ 9],\n",
      "       [12],\n",
      "       [15],\n",
      "       [18]])]\n"
     ]
    }
   ],
   "source": [
    "#Use the hsplit() method to split the 2-D array into three 2-D arrays along rows\n",
    "import numpy as np\n",
    "arr = np.array([[1, 2, 3], [4, 5, 6], [7, 8, 9], [10, 11, 12], [13, 14, 15], [16, 17, 18]])\n",
    "newarr = np.hsplit(arr, 3)\n",
    "print(newarr)"
   ]
  },
  {
   "cell_type": "code",
   "execution_count": 67,
   "id": "cabe1deb-dbc1-4c84-9406-e3fb1f785346",
   "metadata": {},
   "outputs": [
    {
     "name": "stdout",
     "output_type": "stream",
     "text": [
      "(array([3, 5], dtype=int64),)\n"
     ]
    }
   ],
   "source": [
    "#Searching Arrays:\n",
    "#Find the indexes where the value is 4\n",
    "import numpy as np\n",
    "arr = np.array([1, 2, 3, 4, 5, 4, 6])\n",
    "x = np.where(arr == 4)\n",
    "print(x)"
   ]
  },
  {
   "cell_type": "code",
   "execution_count": 68,
   "id": "b19ba656-0685-4f9f-a493-047eb618e686",
   "metadata": {},
   "outputs": [
    {
     "name": "stdout",
     "output_type": "stream",
     "text": [
      "(array([1, 3, 5, 7], dtype=int64),)\n"
     ]
    }
   ],
   "source": [
    "#Find the indexes where the values are even\n",
    "import numpy as np\n",
    "arr = np.array([1, 2, 3, 4, 5, 6, 7, 8])\n",
    "x = np.where(arr%2 == 0)\n",
    "print(x)"
   ]
  },
  {
   "cell_type": "code",
   "execution_count": 69,
   "id": "afa74a16-1cd4-45aa-a30e-e7d43d50ac84",
   "metadata": {},
   "outputs": [
    {
     "name": "stdout",
     "output_type": "stream",
     "text": [
      "[1 2 3]\n"
     ]
    }
   ],
   "source": [
    "#Find the indexes where the values 2, 4, and 6 should be inserted\n",
    "import numpy as np\n",
    "arr = np.array([1, 3, 5, 7])\n",
    "x = np.searchsorted(arr, [2, 4, 6])\n",
    "print(x)"
   ]
  },
  {
   "cell_type": "code",
   "execution_count": 70,
   "id": "2923e210-6e37-4ed0-b448-d93f0a5d63c8",
   "metadata": {},
   "outputs": [
    {
     "name": "stdout",
     "output_type": "stream",
     "text": [
      "[2 3 4 8 9]\n"
     ]
    }
   ],
   "source": [
    "#Sorting Arrays:\n",
    "#Sort the array:\n",
    "import numpy as np\n",
    "arr = np.array([4,8,2,9,3])\n",
    "print(np.sort(arr))"
   ]
  },
  {
   "cell_type": "code",
   "execution_count": 73,
   "id": "c2b51a82-c7f8-4a88-a664-14b8e8ae66fd",
   "metadata": {},
   "outputs": [
    {
     "name": "stdout",
     "output_type": "stream",
     "text": [
      "[False False False  True]\n"
     ]
    }
   ],
   "source": [
    "#Sort a boolean array\n",
    "import numpy as np\n",
    "arr = np.array([False, False, True,False])\n",
    "print(np.sort(arr))"
   ]
  },
  {
   "cell_type": "code",
   "execution_count": 74,
   "id": "a06d97a8-36f4-4f30-845c-cdc7a85bb46e",
   "metadata": {},
   "outputs": [
    {
     "name": "stdout",
     "output_type": "stream",
     "text": [
      "[[2 3 4]\n",
      " [0 1 5]]\n"
     ]
    }
   ],
   "source": [
    "#Sort a 2-D array\n",
    "import numpy as np\n",
    "arr = np.array([[3, 2, 4], [5, 0, 1]])\n",
    "print(np.sort(arr))"
   ]
  },
  {
   "cell_type": "code",
   "execution_count": 75,
   "id": "e770672f-b277-4071-82e7-a9cbb0a01cdb",
   "metadata": {},
   "outputs": [
    {
     "name": "stdout",
     "output_type": "stream",
     "text": [
      "[18 11]\n"
     ]
    }
   ],
   "source": [
    "#Filter Array:\n",
    "#Create an array from the elements on index 0 and 2\n",
    "import numpy as np\n",
    "arr = np.array([18,25,11,58])\n",
    "x = [True, False, True, False]\n",
    "newarr = arr[x]\n",
    "print(newarr)"
   ]
  },
  {
   "cell_type": "code",
   "execution_count": 76,
   "id": "410e0965-8dd7-473f-850e-c8072dea70ab",
   "metadata": {},
   "outputs": [
    {
     "name": "stdout",
     "output_type": "stream",
     "text": [
      "[False, False, False, False, True, True]\n",
      "[45 46]\n"
     ]
    }
   ],
   "source": [
    "#Create a filter array that will return only values higher than 42\n",
    "import numpy as np\n",
    "arr = np.array([41, 42, 43, 44,45,46])\n",
    "# Create an empty list\n",
    "filter_arr = []\n",
    "# go through each element in arr\n",
    "for element in arr:\n",
    "  # if the element is higher than 42, set the value to True, otherwise False:\n",
    "  if element > 44:\n",
    "    filter_arr.append(True)\n",
    "  else:\n",
    "    filter_arr.append(False)\n",
    "newarr = arr[filter_arr]\n",
    "print(filter_arr)\n",
    "print(newarr)"
   ]
  },
  {
   "cell_type": "code",
   "execution_count": 77,
   "id": "c1e45a2c-cff1-4ed9-b1d8-76f60150259c",
   "metadata": {},
   "outputs": [
    {
     "name": "stdout",
     "output_type": "stream",
     "text": [
      "[False  True False  True False  True]\n",
      "[2 4 6]\n"
     ]
    }
   ],
   "source": [
    "#Create a filter array that will return only even elements from the original array\n",
    "import numpy as np\n",
    "arr = np.array([1, 2, 3, 4, 5, 6])\n",
    "filter_arr = arr % 2 == 0\n",
    "newarr = arr[filter_arr]\n",
    "print(filter_arr)\n",
    "print(newarr)"
   ]
  }
 ],
 "metadata": {
  "kernelspec": {
   "display_name": "Python 3 (ipykernel)",
   "language": "python",
   "name": "python3"
  },
  "language_info": {
   "codemirror_mode": {
    "name": "ipython",
    "version": 3
   },
   "file_extension": ".py",
   "mimetype": "text/x-python",
   "name": "python",
   "nbconvert_exporter": "python",
   "pygments_lexer": "ipython3",
   "version": "3.11.7"
  }
 },
 "nbformat": 4,
 "nbformat_minor": 5
}
